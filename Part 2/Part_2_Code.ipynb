{
 "cells": [
  {
   "cell_type": "markdown",
   "source": [
    "This program draws a \"heat map\" of COVID cases based on the Covid-19 dataset. The dataset includes information about\n",
    "case counts over time.\n",
    "It relies on a pre-made country map JSON to make the Folium overlay, and a \"better_names\" csv which I wrote so that the\n",
    "code wouldn't get too cluttered."
   ],
   "metadata": {
    "collapsed": false
   }
  },
  {
   "cell_type": "markdown",
   "source": [
    "To Do:\n",
    "Fix South Korea\n",
    "Look into logarithmic scaling for folium\n",
    "Look into making the map interactive."
   ],
   "metadata": {
    "collapsed": false,
    "pycharm": {
     "name": "#%% md\n"
    }
   }
  },
  {
   "cell_type": "code",
   "execution_count": null,
   "outputs": [],
   "source": [
    "# Import standard libraries\n",
    "import pandas as pd\n",
    "import pycountry as pc\n",
    "import folium as fol\n",
    "from urllib.request import urlopen\n",
    "from json import load\n",
    "\n",
    "\n",
    "# Links to Data Files on GitHub\n",
    "COVID_DATA_URL = \"https://raw.githubusercontent.com/WBArno/PDA_Project/master/Dat/covid_19_data.csv\"\n",
    "BETTER_NAMES_URL = \"https://raw.githubusercontent.com/WBArno/PDA_Project/master/Dat/better_names.csv\"\n",
    "COUNTRIES_URL = \"https://raw.githubusercontent.com/WBArno/PDA_Project/master/Dat/countries.json\"\n",
    "\n",
    "\n",
    "# Loads Data Files (LOCAL)\n",
    "df = pd.read_csv(\"../Dat/covid_19_data.csv\")\n",
    "bn = pd.read_csv(\"../Dat/better_names.csv\")\n",
    "ct = load(open(\"../Dat/countries.json\"))\n",
    "\n",
    "# Loads CSV files (CoLab)\n",
    "# df = pd.read_csv(COVID_DATA_URL)\n",
    "# bn = pd.read_csv(BETTER_NAMES_URL)\n",
    "# ct = load(urlopen(COUNTRIES_URL))"
   ],
   "metadata": {
    "collapsed": false,
    "pycharm": {
     "name": "#%%\n"
    }
   }
  },
  {
   "cell_type": "code",
   "execution_count": null,
   "outputs": [],
   "source": [
    "# Changes the poorly-named-countries into ones that PyCountry can recognize; uses better_names.csv\n",
    "def sanitize_csv(original, new):\n",
    "    if new == \"nil\":\n",
    "        df[\"Country\"] = df[\"Country\"].str.replace(original, \"\", regex=True)\n",
    "    else:\n",
    "        df[\"Country\"] = df[\"Country\"].str.replace(original, new, regex=True)"
   ],
   "metadata": {
    "collapsed": false,
    "pycharm": {
     "name": "#%%\n"
    }
   }
  },
  {
   "cell_type": "markdown",
   "source": [
    "I've put all of the requested project tasks in this cell, as I couldn't fit some of them into the main program."
   ],
   "metadata": {
    "collapsed": false,
    "pycharm": {
     "name": "#%% md\n"
    }
   }
  },
  {
   "cell_type": "code",
   "execution_count": null,
   "outputs": [],
   "source": [
    "# Project Tasks\n",
    "pt = df # Creating a new dataframe for this section\n",
    "\n",
    "pt[\"Location\"] = pt[\"Province/State\"] + \", \" + pt[\"Country/Region\"]\n",
    "pt = pt.groupby([\"SNo\", \"Location\", \"Confirmed\", \"Recovered\", \"Deaths\"], as_index=False).agg({\"Recovered\":\"sum\"})\n",
    "pt.set_index([\"SNo\"], inplace=True) # Sets the index to SNo, because why not\n",
    "pt = pt[pt.Recovered > pt.Recovered.mean()]\n",
    "print(pt.head)\n",
    "\n",
    "pt.to_csv(\"test_output.csv\")"
   ],
   "metadata": {
    "collapsed": false,
    "pycharm": {
     "name": "#%%\n"
    }
   }
  },
  {
   "cell_type": "code",
   "execution_count": null,
   "outputs": [],
   "source": [
    "# Run\n",
    "# Prepares the table for use by dropping unneeded columns and renaming an annoying one.\n",
    "df.drop([\"SNo\", \"ObservationDate\", \"Recovered\", \"Last Update\", \"Deaths\"], axis = 1, inplace = True)\n",
    "df.rename(columns = {\"Country/Region\": \"Country\"}, inplace=True)"
   ],
   "metadata": {
    "collapsed": false,
    "pycharm": {
     "name": "#%%\n"
    }
   }
  },
  {
   "cell_type": "code",
   "execution_count": null,
   "outputs": [],
   "source": [
    "# \"Sanitizes\" the country names so that PyCountry will recognize them, then collapses them all together.\n",
    "for row in bn.itertuples(): sanitize_csv(row[1], row[2])\n",
    "\n",
    "# Groups by and finds the maximum value for each state (the entries are cumulative)\n",
    "df = df.groupby([\"Country\", \"Province/State\"], as_index=False, dropna=False).aggregate({\"Confirmed\":\"last\"})\n",
    "# Groups the table again by country, finding the sum of all of the states.\n",
    "df = df.groupby([\"Country\"], as_index=False, dropna=False).aggregate({\"Confirmed\":\"sum\"})\n",
    "\n",
    "# Uses PyCountry to get the three-letter acronym for each country so that Folium will recognize them.\n",
    "for row in df[\"Country\"]: df[\"Country\"] = df[\"Country\"].replace(row, pc.countries.search_fuzzy(row)[0].alpha_3)\n"
   ],
   "metadata": {
    "collapsed": false,
    "pycharm": {
     "name": "#%%\n"
    }
   }
  },
  {
   "cell_type": "markdown",
   "source": [
    "I'm looking to try to tone down the outliers or increase the variance in the colors so that the majority of the map isn't one color.\n",
    "\n",
    "In addition, I want to see if I can get count labels for each country, if possible."
   ],
   "metadata": {
    "collapsed": false,
    "pycharm": {
     "name": "#%% md\n"
    }
   }
  },
  {
   "cell_type": "code",
   "source": [
    "# Creates the Folium map\n",
    "outbreak_map = fol.Map(location=[0, 0], zoom_start=0)\n",
    "fol.Choropleth(\n",
    "    name=\"COVID Cases\",\n",
    "    geo_data=ct, # Polygonal data to draw the country map.\n",
    "    data=df, # COVID case data\n",
    "    columns=[\"Country\", \"Confirmed\"], # Column to match with the key, count-based column.\n",
    "    key_on=\"feature.id\", # Establishes the key of the country JSON.\n",
    "    fill_color=\"YlOrRd\", # Color scheme\n",
    "    fill_opacity=0.75,\n",
    "    line_opacity=0.25,\n",
    "    nan_fill_opacity=0,\n",
    "    legend_name=\"Confirmed Cases\",\n",
    ").add_to(outbreak_map)\n",
    "fol.LayerControl().add_to(outbreak_map)\n",
    "\n",
    "\n",
    "# Displays the map\n",
    "outbreak_map"
   ],
   "metadata": {
    "collapsed": false,
    "pycharm": {
     "name": "#%%\n"
    }
   },
   "execution_count": null,
   "outputs": []
  }
 ],
 "metadata": {
  "kernelspec": {
   "display_name": "Python 3",
   "language": "python",
   "name": "python3"
  },
  "language_info": {
   "codemirror_mode": {
    "name": "ipython",
    "version": 2
   },
   "file_extension": ".py",
   "mimetype": "text/x-python",
   "name": "python",
   "nbconvert_exporter": "python",
   "pygments_lexer": "ipython2",
   "version": "2.7.6"
  }
 },
 "nbformat": 4,
 "nbformat_minor": 0
}