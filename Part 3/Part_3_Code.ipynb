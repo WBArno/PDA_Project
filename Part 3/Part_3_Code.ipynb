{
 "cells": [
  {
   "cell_type": "markdown",
   "source": [
    "This program draws a \"heat map\" of COVID cases based on the Covid-19 dataset. The dataset includes information about\n",
    "case counts over time. <br>\n",
    "It relies on a pre-made country map JSON to make the Folium overlay, and a \"better_names\" csv which I wrote so that the\n",
    "code wouldn't get too cluttered."
   ],
   "metadata": {
    "collapsed": false
   }
  },
  {
   "cell_type": "markdown",
   "source": [
    "To Do:\n",
    "Figure out why France displays as the wrong color."
   ],
   "metadata": {
    "collapsed": false,
    "pycharm": {
     "name": "#%% md\n"
    }
   }
  },
  {
   "cell_type": "code",
   "execution_count": null,
   "outputs": [],
   "source": [
    "# Import standard libraries\n",
    "import numpy as np\n",
    "import pandas as pd\n",
    "import matplotlib as mp\n",
    "import folium as fol\n",
    "import pycountry as pc\n",
    "from urllib.request import urlopen\n",
    "from json import load\n",
    "\n",
    "\n",
    "\n",
    "# Links to Data Files on GitHub\n",
    "COVID_DATA_URL = \"https://raw.githubusercontent.com/WBArno/PDA_Project/master/Dat/covid_19_data.csv\"\n",
    "BETTER_NAMES_URL = \"https://raw.githubusercontent.com/WBArno/PDA_Project/master/Dat/better_names.csv\"\n",
    "COUNTRIES_URL = \"https://raw.githubusercontent.com/WBArno/PDA_Project/master/Dat/countries.json\"\n",
    "MERGED_COUNTRIES_URL = \"https://raw.githubusercontent.com/WBArno/PDA_Project/master/Dat/merged_countries.json\"\n",
    "\n",
    "\n",
    "# Loads Data Files (LOCAL)\n",
    "df = pd.read_csv(\"../Dat/covid_19_data.csv\")\n",
    "bn = pd.read_csv(\"../Dat/better_names.csv\")\n",
    "ct = load(open(\"../Dat/countries.json\"))\n",
    "mc = load(open(\"../Dat/merged_countries.json\"))\n",
    "\n",
    "# Loads CSV files (CoLab)\n",
    "# df = pd.read_csv(COVID_DATA_URL)\n",
    "# bn = pd.read_csv(BETTER_NAMES_URL)\n",
    "# ct = load(urlopen(COUNTRIES_URL))\n",
    "# mc = load(urlopen(MERGED_COUNTRIES_URL))"
   ],
   "metadata": {
    "collapsed": false,
    "pycharm": {
     "name": "#%%\n"
    }
   }
  },
  {
   "cell_type": "code",
   "execution_count": null,
   "outputs": [],
   "source": [
    "# Changes the poorly-named-countries into ones that PyCountry can recognize; uses better_names.csv\n",
    "def sanitize_csv(original, new):\n",
    "    if new == \"nil\" or new is None:\n",
    "        df[\"Country\"] = df[\"Country\"].str.replace(original, \"\", regex=True)\n",
    "    else:\n",
    "        df[\"Country\"] = df[\"Country\"].str.replace(original, new, regex=True)"
   ],
   "metadata": {
    "collapsed": false,
    "pycharm": {
     "name": "#%%\n"
    }
   }
  },
  {
   "cell_type": "markdown",
   "source": [
    "# Stage 2 Tasks"
   ],
   "metadata": {
    "collapsed": false,
    "pycharm": {
     "name": "#%% md\n"
    }
   }
  },
  {
   "cell_type": "code",
   "execution_count": null,
   "outputs": [],
   "source": [
    "# Project Tasks\n",
    "p2 = df # Creating a new dataframe for this section\n",
    "\n",
    "p2[\"Location\"] = p2[\"Province/State\"] + \", \" + p2[\"Country/Region\"]\n",
    "p2 = p2.groupby([\"SNo\", \"ObservationDate\", \"Location\", \"Confirmed\", \"Recovered\", \"Deaths\"],\n",
    "                as_index=False).agg({\"Recovered\":\"sum\"})\n",
    "p2.set_index([\"SNo\"], inplace=True) # Sets the index to SNo, because why not\n",
    "p2 = p2[p2.Recovered > p2.Recovered.mean()]\n",
    "p2.to_csv(\"test_output.csv\")\n",
    "\n",
    "p2"
   ],
   "metadata": {
    "collapsed": false,
    "pycharm": {
     "name": "#%%\n"
    }
   }
  },
  {
   "cell_type": "markdown",
   "source": [
    "# Stage 3 Tasks\n",
    "## Part 1 - NaN\n",
    "### 1.1 - isna()"
   ],
   "metadata": {
    "collapsed": false,
    "pycharm": {
     "name": "#%% md\n"
    }
   }
  },
  {
   "cell_type": "code",
   "execution_count": null,
   "outputs": [],
   "source": [
    "p3 = df\n",
    "p3.isna().sum()"
   ],
   "metadata": {
    "collapsed": false,
    "pycharm": {
     "name": "#%%\n"
    }
   }
  },
  {
   "cell_type": "markdown",
   "source": [
    "There are 62,045 missing values in the table; all located under the Province/State column.\n",
    "\n",
    "### 1.3 - dropna()\n",
    "Drops all of the rows with null values. <br>\n",
    "Displays a count of all remaining NaN values to show"
   ],
   "metadata": {
    "collapsed": false,
    "pycharm": {
     "name": "#%% md\n"
    }
   }
  },
  {
   "cell_type": "code",
   "execution_count": null,
   "outputs": [],
   "source": [
    "trunc = p3.dropna()\n",
    "trunc.isna().sum().sum() # Total count of NaN values"
   ],
   "metadata": {
    "collapsed": false,
    "pycharm": {
     "name": "#%%\n"
    }
   }
  },
  {
   "cell_type": "markdown",
   "source": [
    "### 1.2 - fillna()\n",
    "Instead of dropping the null values, this replaces them with \"Undefined\". <br>\n",
    "Prints a row with a null value before/after the modification to show the change."
   ],
   "metadata": {
    "collapsed": false,
    "pycharm": {
     "name": "#%% md\n"
    }
   }
  },
  {
   "cell_type": "code",
   "execution_count": null,
   "outputs": [],
   "source": [
    "print(p3[\"Province/State\"][35])\n",
    "p3.fillna(\"Undefined\", inplace=True)\n",
    "print(p3[\"Province/State\"][35])\n",
    "p3.isna().sum().sum() # Total count of NaN values."
   ],
   "metadata": {
    "collapsed": false,
    "pycharm": {
     "name": "#%%\n"
    }
   }
  },
  {
   "cell_type": "markdown",
   "source": [
    "## Part 2 - Plotting\n",
    "### 2.1 - Histograms\n",
    "Creates a set of histograms by sorted data:<br>\n",
    "1) Confirmed Cases:"
   ],
   "metadata": {
    "collapsed": false,
    "pycharm": {
     "name": "#%% md\n"
    }
   }
  },
  {
   "cell_type": "code",
   "execution_count": null,
   "outputs": [],
   "source": [
    "# Using the filtered plot from Stage 2 to reduce migraines (caused by the number of data points) slightly.\n",
    "p2_state_hist = p2[\"Confirmed\"].hist(bins=\"auto\", log=True)"
   ],
   "metadata": {
    "collapsed": false,
    "pycharm": {
     "name": "#%%\n"
    }
   }
  },
  {
   "cell_type": "markdown",
   "source": [
    "2) Recovered Cases:"
   ],
   "metadata": {
    "collapsed": false,
    "pycharm": {
     "name": "#%% md\n"
    }
   }
  },
  {
   "cell_type": "code",
   "execution_count": null,
   "outputs": [],
   "source": [
    "p2_chaos_hist = p2[\"Recovered\"].hist(bins=\"auto\", log=True)"
   ],
   "metadata": {
    "collapsed": false,
    "pycharm": {
     "name": "#%%\n"
    }
   }
  },
  {
   "cell_type": "markdown",
   "source": [
    "3) Deaths:"
   ],
   "metadata": {
    "collapsed": false,
    "pycharm": {
     "name": "#%% md\n"
    }
   }
  },
  {
   "cell_type": "code",
   "execution_count": null,
   "outputs": [],
   "source": [
    "p2_balanced_hist = p2[\"Deaths\"].hist(bins=\"auto\", log=True)"
   ],
   "metadata": {
    "collapsed": false,
    "pycharm": {
     "name": "#%%\n"
    }
   }
  },
  {
   "cell_type": "markdown",
   "source": [
    "### 2.2 - Plots Within Plots\n",
    "All three plots, but together now!"
   ],
   "metadata": {
    "collapsed": false,
    "pycharm": {
     "name": "#%% md\n"
    }
   }
  },
  {
   "cell_type": "code",
   "execution_count": null,
   "outputs": [],
   "source": [
    "p2_grouped_hist = p2.hist(column=[\"Confirmed\", \"Recovered\", \"Deaths\"],\n",
    "                          bins=\"auto\", layout=(3, 1), figsize=(10, 10), log=True)"
   ],
   "metadata": {
    "collapsed": false,
    "pycharm": {
     "name": "#%%\n"
    }
   }
  },
  {
   "cell_type": "markdown",
   "source": [
    "### 2.3 - Single-Line Graph\n",
    "This is an attempt at graphing recovered cases over time. <br>\n",
    "*It turns out that 20,000 data points don't make for a good line graph.*"
   ],
   "metadata": {
    "collapsed": false,
    "pycharm": {
     "name": "#%% md\n"
    }
   }
  },
  {
   "cell_type": "code",
   "execution_count": null,
   "outputs": [],
   "source": [
    "p2.sort_values(by=\"ObservationDate\", ascending=True, inplace=True)\n",
    "p2.plot(x=\"ObservationDate\", y=\"Recovered\", figsize=(10,5))"
   ],
   "metadata": {
    "collapsed": false,
    "pycharm": {
     "name": "#%%\n"
    }
   }
  },
  {
   "cell_type": "markdown",
   "source": [
    "### 2.4 - Multi-Line Graph\n",
    "Now with less data points!"
   ],
   "metadata": {
    "collapsed": false
   }
  },
  {
   "cell_type": "code",
   "execution_count": null,
   "outputs": [],
   "source": [
    "def aggravate(tmp_series, target):\n",
    "    return tmp_series.aggregate({target:\"last\"}).groupby([\"Country/Region\"], as_index=False,\n",
    "                                                         dropna=False).aggregate({target:\"sum\"})[target]\n",
    "\n",
    "\n",
    "tmp_ser = df.groupby([\"Country/Region\", \"Province/State\"], as_index=False, dropna=False)#.aggregate({\"Confirmed\":\"last\"})\n",
    "\n",
    "lg = pd.DataFrame()\n",
    "lg[\"Country\"] = (tmp_ser.aggregate({\"Confirmed\":\"last\"}).groupby([\"Country/Region\"], as_index=False,dropna=False).\n",
    "                 aggregate({\"Confirmed\":\"sum\"}))[\"Country/Region\"]\n",
    "lg[\"Confirmed\"] = aggravate(tmp_ser, \"Confirmed\")\n",
    "lg[\"Recovered\"] = aggravate(tmp_ser, \"Recovered\")\n",
    "lg[\"Deaths\"] = aggravate(tmp_ser, \"Deaths\")\n",
    "lg.sort_values(by=\"Confirmed\", ascending=True, inplace=True)\n",
    "\n",
    "\n",
    "lg.plot('Confirmed', legend=True, logx=True, logy=True)\n",
    "mp.pyplot.annotate('|---?---|', (10**7, 10**7))\n",
    "mp.pyplot.annotate('|----------?----------|', (0.5, 100))"
   ],
   "metadata": {
    "collapsed": false,
    "pycharm": {
     "name": "#%%\n"
    }
   }
  },
  {
   "cell_type": "markdown",
   "source": [
    "### 2.4 - Multi-Line Graph\n",
    "Now with beautiful labels!"
   ],
   "metadata": {
    "collapsed": false
   }
  },
  {
   "cell_type": "code",
   "execution_count": null,
   "outputs": [],
   "source": [
    "lg_bar = lg\n",
    "lg_bar.set_index(\"Country\")\n",
    "lg_bar.plot.bar(\"Country\", \"Confirmed\", logy=True)\n",
    "\n",
    "mp.pyplot.savefig(\"modern_art.png\")"
   ],
   "metadata": {
    "collapsed": false,
    "pycharm": {
     "name": "#%%\n"
    }
   }
  },
  {
   "cell_type": "markdown",
   "source": [
    "# -- Run --\n",
    "Prepares the table for use by dropping unneeded columns and renaming an annoying one."
   ],
   "metadata": {
    "collapsed": false,
    "pycharm": {
     "name": "#%% md\n"
    }
   }
  },
  {
   "cell_type": "code",
   "execution_count": null,
   "outputs": [],
   "source": [
    "df.drop([\"SNo\", \"ObservationDate\", \"Recovered\", \"Last Update\", \"Deaths\"], axis=1, inplace=True)\n",
    "df.rename(columns = {\"Country/Region\": \"Country\"}, inplace=True)"
   ],
   "metadata": {
    "collapsed": false,
    "pycharm": {
     "name": "#%%\n"
    }
   }
  },
  {
   "cell_type": "markdown",
   "source": [
    "\"Sanitizes\" the country names so that PyCountry will recognize them, then collapses them all together."
   ],
   "metadata": {
    "collapsed": false,
    "pycharm": {
     "name": "#%% md\n"
    }
   }
  },
  {
   "cell_type": "code",
   "execution_count": null,
   "outputs": [],
   "source": [
    "for row in bn.itertuples(): sanitize_csv(row[1], row[2])\n",
    "\n",
    "# Groups by and finds the maximum value for each state (the entries are cumulative)\n",
    "df = df.groupby([\"Country\", \"Province/State\"], as_index=False, dropna=False).aggregate({\"Confirmed\":\"last\"})\n",
    "# Groups the table again by country, finding the sum of all of the states.\n",
    "df = df.groupby([\"Country\"], as_index=False, dropna=False).aggregate({\"Confirmed\":\"sum\"})"
   ],
   "metadata": {
    "collapsed": false,
    "pycharm": {
     "name": "#%%\n"
    }
   }
  },
  {
   "cell_type": "markdown",
   "source": [
    "Uses PyCountry to get the three-letter acronym for each country so that Folium will recognize them."
   ],
   "metadata": {
    "collapsed": false,
    "pycharm": {
     "name": "#%% md\n"
    }
   }
  },
  {
   "cell_type": "code",
   "execution_count": null,
   "outputs": [],
   "source": [
    "for row in df[\"Country\"]: df[\"Country\"] = df[\"Country\"].replace(row, pc.countries.search_fuzzy(row)[0].alpha_3)\n"
   ],
   "metadata": {
    "collapsed": false,
    "pycharm": {
     "name": "#%%\n"
    }
   }
  },
  {
   "cell_type": "markdown",
   "source": [
    "Takes the log of all values in order to make a more colorful map."
   ],
   "metadata": {
    "collapsed": false,
    "pycharm": {
     "name": "#%% md\n"
    }
   }
  },
  {
   "cell_type": "code",
   "execution_count": null,
   "outputs": [],
   "source": [
    "for row in df[\"Confirmed\"]: df[\"Confirmed\"] = df[\"Confirmed\"].replace(row, np.log(row))\n",
    "df.dropna(inplace=True) # Necessary to remove broken entries created by the above process."
   ],
   "metadata": {
    "collapsed": false,
    "pycharm": {
     "name": "#%%\n"
    }
   }
  },
  {
   "cell_type": "markdown",
   "source": [
    "Creates the Folium map."
   ],
   "metadata": {
    "collapsed": false,
    "pycharm": {
     "name": "#%% md\n"
    }
   }
  },
  {
   "cell_type": "code",
   "source": [
    "outbreak_map = fol.Map(location=[0, 0], zoom_start=0)\n",
    "\n",
    "fol.Choropleth(\n",
    "    name = \"COVID Cases\",\n",
    "    geo_data = ct, # Polygonal data to draw the country map.\n",
    "    data = df, # COVID case data\n",
    "    columns = [\"Country\", \"Confirmed\"], # Column to match with the key, count-based column.\n",
    "    key_on = \"feature.id\", # Establishes the key of the country JSON.\n",
    "    fill_color = \"YlOrRd\", # Color scheme\n",
    "    fill_opacity = 0.75,\n",
    "    line_opacity = 0.25,\n",
    "    nan_fill_opacity = 0,\n",
    "    legend_name = \"Confirmed Cases\",\n",
    "    highlight = True,\n",
    ").add_to(outbreak_map)"
   ],
   "metadata": {
    "collapsed": false,
    "pycharm": {
     "name": "#%%\n"
    }
   },
   "execution_count": null,
   "outputs": []
  },
  {
   "cell_type": "markdown",
   "source": [
    "Creates an overlay for the above folium map which displays the confirmed count."
   ],
   "metadata": {
    "collapsed": false,
    "pycharm": {
     "name": "#%% md\n"
    }
   }
  },
  {
   "cell_type": "code",
   "source": [
    "# Adding labels to map\n",
    "OverlayData = fol.features.GeoJson(\n",
    "    mc,\n",
    "    style_function = lambda x: {'fillColor': '#ffffff', 'color':'#000000', 'fillOpacity': 0.2, 'weight': 0.2},\n",
    "    highlight_function = lambda x: {'fillColor': '#000000', 'color':'#000000', 'fillOpacity': 0.50, 'weight': 0.1},\n",
    "    control = False,\n",
    "    tooltip = fol.features.GeoJsonTooltip(\n",
    "        fields = [\"name\", \"Confirmed\"],\n",
    "        aliases = [\"Country: \", \"Confirmed Cases: \"],\n",
    "        style = \"background-color: white; color: #333333; font-family: arial; font-size: 12px; padding: 10px;\"\n",
    "    )\n",
    ")\n",
    "\n",
    "outbreak_map.add_child(OverlayData)\n",
    "outbreak_map.keep_in_front(OverlayData)\n",
    "fol.LayerControl().add_to(outbreak_map)"
   ],
   "metadata": {
    "collapsed": false,
    "pycharm": {
     "name": "#%%\n"
    }
   },
   "execution_count": null,
   "outputs": []
  },
  {
   "cell_type": "code",
   "execution_count": null,
   "outputs": [],
   "source": [
    "# Displays the map\n",
    "outbreak_map"
   ],
   "metadata": {
    "collapsed": false,
    "pycharm": {
     "name": "#%%\n"
    }
   }
  }
 ],
 "metadata": {
  "kernelspec": {
   "display_name": "Python 3",
   "language": "python",
   "name": "python3"
  },
  "language_info": {
   "codemirror_mode": {
    "name": "ipython",
    "version": 2
   },
   "file_extension": ".py",
   "mimetype": "text/x-python",
   "name": "python",
   "nbconvert_exporter": "python",
   "pygments_lexer": "ipython2",
   "version": "2.7.6"
  }
 },
 "nbformat": 4,
 "nbformat_minor": 0
}