{
 "cells": [
  {
   "cell_type": "markdown",
   "source": [
    "# Introduction"
   ],
   "metadata": {
    "collapsed": false
   }
  },
  {
   "cell_type": "markdown",
   "source": [
    "This program draws a \"heat map\" of COVID cases based on the Covid-19 dataset. The dataset includes information about\n",
    "case counts over time. <br>\n",
    "It relies on a pre-made country map JSON to make the Folium overlay, and a \"better_names\" csv which I wrote so that the\n",
    "code wouldn't get too cluttered."
   ],
   "metadata": {
    "collapsed": false,
    "pycharm": {
     "name": "#%% md\n"
    }
   }
  },
  {
   "cell_type": "markdown",
   "source": [
    "To Do: <br>\n",
    "Figure out why France displays as the wrong color."
   ],
   "metadata": {
    "collapsed": false,
    "pycharm": {
     "name": "#%% md\n"
    }
   }
  },
  {
   "cell_type": "markdown",
   "source": [
    "# Init"
   ],
   "metadata": {
    "collapsed": false,
    "pycharm": {
     "name": "#%% md\n"
    }
   }
  },
  {
   "cell_type": "markdown",
   "source": [
    "Imports standard libraries:"
   ],
   "metadata": {
    "collapsed": false,
    "pycharm": {
     "name": "#%% md\n"
    }
   }
  },
  {
   "cell_type": "code",
   "execution_count": 9,
   "outputs": [],
   "source": [
    "import numpy as np\n",
    "import pandas as pd\n",
    "import matplotlib as mp\n",
    "import folium as fol\n",
    "import pycountry as pc\n",
    "from urllib.request import urlopen\n",
    "from json import load"
   ],
   "metadata": {
    "collapsed": false,
    "pycharm": {
     "name": "#%%\n"
    }
   }
  },
  {
   "cell_type": "markdown",
   "source": [
    "Loads data files on GitHub (for Colab)"
   ],
   "metadata": {
    "collapsed": false,
    "pycharm": {
     "name": "#%% md\n"
    }
   }
  },
  {
   "cell_type": "code",
   "execution_count": 10,
   "outputs": [],
   "source": [
    "COVID_DATA_URL = \"https://raw.githubusercontent.com/WBArno/PDA_Project/master/Dat/covid_19_data.csv\"\n",
    "BETTER_NAMES_URL = \"https://raw.githubusercontent.com/WBArno/PDA_Project/master/Dat/better_names.csv\"\n",
    "COUNTRIES_URL = \"https://raw.githubusercontent.com/WBArno/PDA_Project/master/Dat/countries.json\"\n",
    "MERGED_COUNTRIES_URL = \"https://raw.githubusercontent.com/WBArno/PDA_Project/master/Dat/merged_countries.json\"\n",
    "\n",
    "# df = pd.read_csv(COVID_DATA_URL)\n",
    "# bn = pd.read_csv(BETTER_NAMES_URL)\n",
    "# ct = load(urlopen(COUNTRIES_URL))\n",
    "# mc = load(urlopen(MERGED_COUNTRIES_URL))"
   ],
   "metadata": {
    "collapsed": false,
    "pycharm": {
     "name": "#%%\n"
    }
   }
  },
  {
   "cell_type": "markdown",
   "source": [
    "Loads Data Files (for execution locally/ GitHub)."
   ],
   "metadata": {
    "collapsed": false,
    "pycharm": {
     "name": "#%% md\n"
    }
   }
  },
  {
   "cell_type": "code",
   "execution_count": 11,
   "outputs": [],
   "source": [
    "df = pd.read_csv(\"../Dat/covid_19_data.csv\")\n",
    "bn = pd.read_csv(\"../Dat/better_names.csv\")\n",
    "ct = load(open(\"../Dat/countries.json\"))\n",
    "mc = load(open(\"../Dat/merged_countries.json\"))"
   ],
   "metadata": {
    "collapsed": false,
    "pycharm": {
     "name": "#%%\n"
    }
   }
  },
  {
   "cell_type": "markdown",
   "source": [
    "# Project Tasks"
   ],
   "metadata": {
    "collapsed": false,
    "pycharm": {
     "name": "#%% md\n"
    }
   }
  },
  {
   "cell_type": "markdown",
   "source": [
    "## Stage 1"
   ],
   "metadata": {
    "collapsed": false,
    "pycharm": {
     "name": "#%% md\n"
    }
   }
  },
  {
   "cell_type": "markdown",
   "source": [
    "### 1.3 - Loading a Dataframe"
   ],
   "metadata": {
    "collapsed": false,
    "pycharm": {
     "name": "#%% md\n"
    }
   }
  },
  {
   "cell_type": "markdown",
   "source": [
    "Loading was taken care of in \"Init\", so this section is commented out."
   ],
   "metadata": {
    "collapsed": false,
    "pycharm": {
     "name": "#%% md\n"
    }
   }
  },
  {
   "cell_type": "code",
   "execution_count": 12,
   "outputs": [],
   "source": [
    "# import pandas as pd\n",
    "# CSV_DATA = \"https://raw.githubusercontent.com/WBArno/PDA_Project/master/Dat/covid_19_data.csv\"\n",
    "# df = pd.read_csv(CSV_DATA)"
   ],
   "metadata": {
    "collapsed": false,
    "pycharm": {
     "name": "#%%\n"
    }
   }
  },
  {
   "cell_type": "markdown",
   "source": [
    "### 1.4 - Manipulation with Workflows"
   ],
   "metadata": {
    "collapsed": false,
    "pycharm": {
     "name": "#%% md\n"
    }
   }
  },
  {
   "cell_type": "markdown",
   "source": [
    "#### 1.4a - Datatypes"
   ],
   "metadata": {
    "collapsed": false,
    "pycharm": {
     "name": "#%% md\n"
    }
   }
  },
  {
   "cell_type": "markdown",
   "source": [
    "Displays the datatypes in the dataset."
   ],
   "metadata": {
    "collapsed": false,
    "pycharm": {
     "name": "#%% md\n"
    }
   }
  },
  {
   "cell_type": "code",
   "source": [
    "print(\"Data Types:\\n\", df.dtypes)"
   ],
   "metadata": {
    "collapsed": false,
    "pycharm": {
     "name": "#%%\n"
    }
   },
   "execution_count": 13,
   "outputs": [
    {
     "name": "stdout",
     "output_type": "stream",
     "text": [
      "Data Types:\n",
      " SNo                  int64\n",
      "ObservationDate     object\n",
      "Province/State      object\n",
      "Country/Region      object\n",
      "Last Update         object\n",
      "Confirmed          float64\n",
      "Deaths             float64\n",
      "Recovered          float64\n",
      "dtype: object\n"
     ]
    }
   ]
  },
  {
   "cell_type": "markdown",
   "source": [
    "#### 1.4b - Top"
   ],
   "metadata": {
    "collapsed": false
   }
  },
  {
   "cell_type": "markdown",
   "source": [
    "Displays the top of the dataframe with .head()"
   ],
   "metadata": {
    "collapsed": false
   }
  },
  {
   "cell_type": "code",
   "source": [
    "print(\"Top of Set:\\n\", df.head())"
   ],
   "metadata": {
    "collapsed": false,
    "pycharm": {
     "name": "#%%\n"
    }
   },
   "execution_count": 14,
   "outputs": [
    {
     "name": "stdout",
     "output_type": "stream",
     "text": [
      "Top of Set:\n",
      "    SNo ObservationDate Province/State  Country/Region      Last Update  \\\n",
      "0    1      01/22/2020          Anhui  Mainland China  1/22/2020 17:00   \n",
      "1    2      01/22/2020        Beijing  Mainland China  1/22/2020 17:00   \n",
      "2    3      01/22/2020      Chongqing  Mainland China  1/22/2020 17:00   \n",
      "3    4      01/22/2020         Fujian  Mainland China  1/22/2020 17:00   \n",
      "4    5      01/22/2020          Gansu  Mainland China  1/22/2020 17:00   \n",
      "\n",
      "   Confirmed  Deaths  Recovered  \n",
      "0        1.0     0.0        0.0  \n",
      "1       14.0     0.0        0.0  \n",
      "2        6.0     0.0        0.0  \n",
      "3        1.0     0.0        0.0  \n",
      "4        0.0     0.0        0.0  \n"
     ]
    }
   ]
  },
  {
   "cell_type": "markdown",
   "source": [
    "#### 1.4c - Summary"
   ],
   "metadata": {
    "collapsed": false
   }
  },
  {
   "cell_type": "markdown",
   "source": [
    "Creates an automatically-generated statistical summary of the dataframe."
   ],
   "metadata": {
    "collapsed": false
   }
  },
  {
   "cell_type": "code",
   "source": [
    "print(\"Summary:\\n\", df.describe())"
   ],
   "metadata": {
    "collapsed": false,
    "pycharm": {
     "name": "#%%\n"
    }
   },
   "execution_count": 15,
   "outputs": [
    {
     "name": "stdout",
     "output_type": "stream",
     "text": [
      "Summary:\n",
      "                  SNo     Confirmed         Deaths     Recovered\n",
      "count  236017.000000  2.360170e+05  236017.000000  2.360170e+05\n",
      "mean   118009.000000  5.715800e+04    1487.719368  3.393027e+04\n",
      "std     68132.383579  1.834751e+05    4770.414639  1.474800e+05\n",
      "min         1.000000 -3.028440e+05    -178.000000 -8.544050e+05\n",
      "25%     59005.000000  7.270000e+02       9.000000  1.000000e+01\n",
      "50%    118009.000000  6.695000e+03     127.000000  1.224000e+03\n",
      "75%    177013.000000  3.349900e+04     880.000000  1.263900e+04\n",
      "max    236017.000000  3.664050e+06  108208.000000  6.399531e+06\n"
     ]
    }
   ]
  },
  {
   "cell_type": "markdown",
   "source": [
    "## Stage 2"
   ],
   "metadata": {
    "collapsed": false,
    "pycharm": {
     "name": "#%% md\n"
    }
   }
  },
  {
   "cell_type": "markdown",
   "source": [
    "### 2.4 - Adding/Editing Columns"
   ],
   "metadata": {
    "collapsed": false,
    "pycharm": {
     "name": "#%% md\n"
    }
   }
  },
  {
   "cell_type": "markdown",
   "source": [
    "Combines \"Province/State\" and \"Country/Region\" into a new column (\"Location\") in the form \"Province, Country\"."
   ],
   "metadata": {
    "collapsed": false,
    "pycharm": {
     "name": "#%% md\n"
    }
   }
  },
  {
   "cell_type": "code",
   "execution_count": 16,
   "outputs": [
    {
     "data": {
      "text/plain": "           SNo ObservationDate     Province/State  Country/Region  \\\n0            1      01/22/2020              Anhui  Mainland China   \n1            2      01/22/2020            Beijing  Mainland China   \n2            3      01/22/2020          Chongqing  Mainland China   \n3            4      01/22/2020             Fujian  Mainland China   \n4            5      01/22/2020              Gansu  Mainland China   \n...        ...             ...                ...             ...   \n236012  236013      02/27/2021  Zaporizhia Oblast         Ukraine   \n236013  236014      02/27/2021            Zeeland     Netherlands   \n236014  236015      02/27/2021           Zhejiang  Mainland China   \n236015  236016      02/27/2021    Zhytomyr Oblast         Ukraine   \n236016  236017      02/27/2021       Zuid-Holland     Netherlands   \n\n                Last Update  Confirmed  Deaths  Recovered  \\\n0           1/22/2020 17:00        1.0     0.0        0.0   \n1           1/22/2020 17:00       14.0     0.0        0.0   \n2           1/22/2020 17:00        6.0     0.0        0.0   \n3           1/22/2020 17:00        1.0     0.0        0.0   \n4           1/22/2020 17:00        0.0     0.0        0.0   \n...                     ...        ...     ...        ...   \n236012  2021-02-28 05:22:20    69504.0  1132.0    65049.0   \n236013  2021-02-28 05:22:20    16480.0   178.0        0.0   \n236014  2021-02-28 05:22:20     1321.0     1.0     1314.0   \n236015  2021-02-28 05:22:20    50582.0   834.0    44309.0   \n236016  2021-02-28 05:22:20   255335.0  3732.0        0.0   \n\n                          Location  \n0            Anhui, Mainland China  \n1          Beijing, Mainland China  \n2        Chongqing, Mainland China  \n3           Fujian, Mainland China  \n4            Gansu, Mainland China  \n...                            ...  \n236012  Zaporizhia Oblast, Ukraine  \n236013        Zeeland, Netherlands  \n236014    Zhejiang, Mainland China  \n236015    Zhytomyr Oblast, Ukraine  \n236016   Zuid-Holland, Netherlands  \n\n[236017 rows x 9 columns]",
      "text/html": "<div>\n<style scoped>\n    .dataframe tbody tr th:only-of-type {\n        vertical-align: middle;\n    }\n\n    .dataframe tbody tr th {\n        vertical-align: top;\n    }\n\n    .dataframe thead th {\n        text-align: right;\n    }\n</style>\n<table border=\"1\" class=\"dataframe\">\n  <thead>\n    <tr style=\"text-align: right;\">\n      <th></th>\n      <th>SNo</th>\n      <th>ObservationDate</th>\n      <th>Province/State</th>\n      <th>Country/Region</th>\n      <th>Last Update</th>\n      <th>Confirmed</th>\n      <th>Deaths</th>\n      <th>Recovered</th>\n      <th>Location</th>\n    </tr>\n  </thead>\n  <tbody>\n    <tr>\n      <th>0</th>\n      <td>1</td>\n      <td>01/22/2020</td>\n      <td>Anhui</td>\n      <td>Mainland China</td>\n      <td>1/22/2020 17:00</td>\n      <td>1.0</td>\n      <td>0.0</td>\n      <td>0.0</td>\n      <td>Anhui, Mainland China</td>\n    </tr>\n    <tr>\n      <th>1</th>\n      <td>2</td>\n      <td>01/22/2020</td>\n      <td>Beijing</td>\n      <td>Mainland China</td>\n      <td>1/22/2020 17:00</td>\n      <td>14.0</td>\n      <td>0.0</td>\n      <td>0.0</td>\n      <td>Beijing, Mainland China</td>\n    </tr>\n    <tr>\n      <th>2</th>\n      <td>3</td>\n      <td>01/22/2020</td>\n      <td>Chongqing</td>\n      <td>Mainland China</td>\n      <td>1/22/2020 17:00</td>\n      <td>6.0</td>\n      <td>0.0</td>\n      <td>0.0</td>\n      <td>Chongqing, Mainland China</td>\n    </tr>\n    <tr>\n      <th>3</th>\n      <td>4</td>\n      <td>01/22/2020</td>\n      <td>Fujian</td>\n      <td>Mainland China</td>\n      <td>1/22/2020 17:00</td>\n      <td>1.0</td>\n      <td>0.0</td>\n      <td>0.0</td>\n      <td>Fujian, Mainland China</td>\n    </tr>\n    <tr>\n      <th>4</th>\n      <td>5</td>\n      <td>01/22/2020</td>\n      <td>Gansu</td>\n      <td>Mainland China</td>\n      <td>1/22/2020 17:00</td>\n      <td>0.0</td>\n      <td>0.0</td>\n      <td>0.0</td>\n      <td>Gansu, Mainland China</td>\n    </tr>\n    <tr>\n      <th>...</th>\n      <td>...</td>\n      <td>...</td>\n      <td>...</td>\n      <td>...</td>\n      <td>...</td>\n      <td>...</td>\n      <td>...</td>\n      <td>...</td>\n      <td>...</td>\n    </tr>\n    <tr>\n      <th>236012</th>\n      <td>236013</td>\n      <td>02/27/2021</td>\n      <td>Zaporizhia Oblast</td>\n      <td>Ukraine</td>\n      <td>2021-02-28 05:22:20</td>\n      <td>69504.0</td>\n      <td>1132.0</td>\n      <td>65049.0</td>\n      <td>Zaporizhia Oblast, Ukraine</td>\n    </tr>\n    <tr>\n      <th>236013</th>\n      <td>236014</td>\n      <td>02/27/2021</td>\n      <td>Zeeland</td>\n      <td>Netherlands</td>\n      <td>2021-02-28 05:22:20</td>\n      <td>16480.0</td>\n      <td>178.0</td>\n      <td>0.0</td>\n      <td>Zeeland, Netherlands</td>\n    </tr>\n    <tr>\n      <th>236014</th>\n      <td>236015</td>\n      <td>02/27/2021</td>\n      <td>Zhejiang</td>\n      <td>Mainland China</td>\n      <td>2021-02-28 05:22:20</td>\n      <td>1321.0</td>\n      <td>1.0</td>\n      <td>1314.0</td>\n      <td>Zhejiang, Mainland China</td>\n    </tr>\n    <tr>\n      <th>236015</th>\n      <td>236016</td>\n      <td>02/27/2021</td>\n      <td>Zhytomyr Oblast</td>\n      <td>Ukraine</td>\n      <td>2021-02-28 05:22:20</td>\n      <td>50582.0</td>\n      <td>834.0</td>\n      <td>44309.0</td>\n      <td>Zhytomyr Oblast, Ukraine</td>\n    </tr>\n    <tr>\n      <th>236016</th>\n      <td>236017</td>\n      <td>02/27/2021</td>\n      <td>Zuid-Holland</td>\n      <td>Netherlands</td>\n      <td>2021-02-28 05:22:20</td>\n      <td>255335.0</td>\n      <td>3732.0</td>\n      <td>0.0</td>\n      <td>Zuid-Holland, Netherlands</td>\n    </tr>\n  </tbody>\n</table>\n<p>236017 rows × 9 columns</p>\n</div>"
     },
     "execution_count": 16,
     "metadata": {},
     "output_type": "execute_result"
    }
   ],
   "source": [
    "p2 = df # Creates a new dataframe for this section\n",
    "p2[\"Location\"] = p2[\"Province/State\"] + \", \" + p2[\"Country/Region\"]\n",
    "p2"
   ],
   "metadata": {
    "collapsed": false,
    "pycharm": {
     "name": "#%%\n"
    }
   }
  },
  {
   "cell_type": "markdown",
   "source": [
    "### 2.7a - Creating a Subset"
   ],
   "metadata": {
    "collapsed": false,
    "pycharm": {
     "name": "#%% md\n"
    }
   }
  },
  {
   "cell_type": "markdown",
   "source": [
    "Uses .groupby().agg() to narrow down the table into a more useful form. <br>\n",
    "Dataset is filtered before other steps to speed up the process."
   ],
   "metadata": {
    "collapsed": false,
    "pycharm": {
     "name": "#%% md\n"
    }
   }
  },
  {
   "cell_type": "code",
   "execution_count": 17,
   "outputs": [
    {
     "data": {
      "text/plain": "       ObservationDate                    Location  Confirmed  Deaths  \\\n0           01/01/2021              Abruzzo, Italy    35723.0  1218.0   \n1           01/01/2021                Acre, Brazil    41689.0   796.0   \n2           01/01/2021     Adygea Republic, Russia    11103.0    92.0   \n3           01/01/2021      Aguascalientes, Mexico    17021.0  1371.0   \n4           01/01/2021                Aichi, Japan    16764.0   213.0   \n...                ...                         ...        ...     ...   \n173966      12/31/2020  Zaporizhia Oblast, Ukraine    54088.0   594.0   \n173967      12/31/2020        Zeeland, Netherlands    10462.0   127.0   \n173968      12/31/2020    Zhejiang, Mainland China     1306.0     1.0   \n173969      12/31/2020    Zhytomyr Oblast, Ukraine    39202.0   655.0   \n173970      12/31/2020   Zuid-Holland, Netherlands   202237.0  2820.0   \n\n        Recovered  \n0         23132.0  \n1         33670.0  \n2          9085.0  \n3             0.0  \n4         13596.0  \n...           ...  \n173966    20530.0  \n173967        0.0  \n173968     1293.0  \n173969    31998.0  \n173970        0.0  \n\n[173971 rows x 5 columns]",
      "text/html": "<div>\n<style scoped>\n    .dataframe tbody tr th:only-of-type {\n        vertical-align: middle;\n    }\n\n    .dataframe tbody tr th {\n        vertical-align: top;\n    }\n\n    .dataframe thead th {\n        text-align: right;\n    }\n</style>\n<table border=\"1\" class=\"dataframe\">\n  <thead>\n    <tr style=\"text-align: right;\">\n      <th></th>\n      <th>ObservationDate</th>\n      <th>Location</th>\n      <th>Confirmed</th>\n      <th>Deaths</th>\n      <th>Recovered</th>\n    </tr>\n  </thead>\n  <tbody>\n    <tr>\n      <th>0</th>\n      <td>01/01/2021</td>\n      <td>Abruzzo, Italy</td>\n      <td>35723.0</td>\n      <td>1218.0</td>\n      <td>23132.0</td>\n    </tr>\n    <tr>\n      <th>1</th>\n      <td>01/01/2021</td>\n      <td>Acre, Brazil</td>\n      <td>41689.0</td>\n      <td>796.0</td>\n      <td>33670.0</td>\n    </tr>\n    <tr>\n      <th>2</th>\n      <td>01/01/2021</td>\n      <td>Adygea Republic, Russia</td>\n      <td>11103.0</td>\n      <td>92.0</td>\n      <td>9085.0</td>\n    </tr>\n    <tr>\n      <th>3</th>\n      <td>01/01/2021</td>\n      <td>Aguascalientes, Mexico</td>\n      <td>17021.0</td>\n      <td>1371.0</td>\n      <td>0.0</td>\n    </tr>\n    <tr>\n      <th>4</th>\n      <td>01/01/2021</td>\n      <td>Aichi, Japan</td>\n      <td>16764.0</td>\n      <td>213.0</td>\n      <td>13596.0</td>\n    </tr>\n    <tr>\n      <th>...</th>\n      <td>...</td>\n      <td>...</td>\n      <td>...</td>\n      <td>...</td>\n      <td>...</td>\n    </tr>\n    <tr>\n      <th>173966</th>\n      <td>12/31/2020</td>\n      <td>Zaporizhia Oblast, Ukraine</td>\n      <td>54088.0</td>\n      <td>594.0</td>\n      <td>20530.0</td>\n    </tr>\n    <tr>\n      <th>173967</th>\n      <td>12/31/2020</td>\n      <td>Zeeland, Netherlands</td>\n      <td>10462.0</td>\n      <td>127.0</td>\n      <td>0.0</td>\n    </tr>\n    <tr>\n      <th>173968</th>\n      <td>12/31/2020</td>\n      <td>Zhejiang, Mainland China</td>\n      <td>1306.0</td>\n      <td>1.0</td>\n      <td>1293.0</td>\n    </tr>\n    <tr>\n      <th>173969</th>\n      <td>12/31/2020</td>\n      <td>Zhytomyr Oblast, Ukraine</td>\n      <td>39202.0</td>\n      <td>655.0</td>\n      <td>31998.0</td>\n    </tr>\n    <tr>\n      <th>173970</th>\n      <td>12/31/2020</td>\n      <td>Zuid-Holland, Netherlands</td>\n      <td>202237.0</td>\n      <td>2820.0</td>\n      <td>0.0</td>\n    </tr>\n  </tbody>\n</table>\n<p>173971 rows × 5 columns</p>\n</div>"
     },
     "execution_count": 17,
     "metadata": {},
     "output_type": "execute_result"
    }
   ],
   "source": [
    "# as_index = False so that the next stage is possible.\n",
    "p2 = p2.groupby([\"SNo\", \"ObservationDate\", \"Location\", \"Confirmed\", \"Recovered\", \"Deaths\"],\n",
    "                as_index=False).agg({\"Recovered\":\"sum\"})\n",
    "p2"
   ],
   "metadata": {
    "collapsed": false,
    "pycharm": {
     "name": "#%%\n"
    }
   }
  },
  {
   "cell_type": "markdown",
   "source": [
    "### 2.6 - set_index()"
   ],
   "metadata": {
    "collapsed": false,
    "pycharm": {
     "name": "#%% md\n"
    }
   }
  },
  {
   "cell_type": "markdown",
   "source": [
    "Sets the index to \"SNo\", which is the original index number for the dataset."
   ],
   "metadata": {
    "collapsed": false,
    "pycharm": {
     "name": "#%% md\n"
    }
   }
  },
  {
   "cell_type": "code",
   "execution_count": 18,
   "outputs": [
    {
     "ename": "KeyError",
     "evalue": "\"None of ['SNo'] are in the columns\"",
     "output_type": "error",
     "traceback": [
      "\u001B[1;31m---------------------------------------------------------------------------\u001B[0m",
      "\u001B[1;31mKeyError\u001B[0m                                  Traceback (most recent call last)",
      "\u001B[1;32m<ipython-input-18-b742bad7311d>\u001B[0m in \u001B[0;36m<module>\u001B[1;34m\u001B[0m\n\u001B[1;32m----> 1\u001B[1;33m \u001B[0mp2\u001B[0m\u001B[1;33m.\u001B[0m\u001B[0mset_index\u001B[0m\u001B[1;33m(\u001B[0m\u001B[1;33m[\u001B[0m\u001B[1;34m\"SNo\"\u001B[0m\u001B[1;33m]\u001B[0m\u001B[1;33m,\u001B[0m \u001B[0minplace\u001B[0m\u001B[1;33m=\u001B[0m\u001B[1;32mTrue\u001B[0m\u001B[1;33m)\u001B[0m\u001B[1;33m\u001B[0m\u001B[1;33m\u001B[0m\u001B[0m\n\u001B[0m\u001B[0;32m      2\u001B[0m \u001B[0mp2\u001B[0m\u001B[1;33m\u001B[0m\u001B[1;33m\u001B[0m\u001B[0m\n\u001B[0;32m      3\u001B[0m \u001B[1;33m\u001B[0m\u001B[0m\n",
      "\u001B[1;32mD:\\Scoop\\apps\\anaconda3\\current\\envs\\PyCharm_Conda\\lib\\site-packages\\pandas\\core\\frame.py\u001B[0m in \u001B[0;36mset_index\u001B[1;34m(self, keys, drop, append, inplace, verify_integrity)\u001B[0m\n\u001B[0;32m   4725\u001B[0m \u001B[1;33m\u001B[0m\u001B[0m\n\u001B[0;32m   4726\u001B[0m         \u001B[1;32mif\u001B[0m \u001B[0mmissing\u001B[0m\u001B[1;33m:\u001B[0m\u001B[1;33m\u001B[0m\u001B[1;33m\u001B[0m\u001B[0m\n\u001B[1;32m-> 4727\u001B[1;33m             \u001B[1;32mraise\u001B[0m \u001B[0mKeyError\u001B[0m\u001B[1;33m(\u001B[0m\u001B[1;34mf\"None of {missing} are in the columns\"\u001B[0m\u001B[1;33m)\u001B[0m\u001B[1;33m\u001B[0m\u001B[1;33m\u001B[0m\u001B[0m\n\u001B[0m\u001B[0;32m   4728\u001B[0m \u001B[1;33m\u001B[0m\u001B[0m\n\u001B[0;32m   4729\u001B[0m         \u001B[1;32mif\u001B[0m \u001B[0minplace\u001B[0m\u001B[1;33m:\u001B[0m\u001B[1;33m\u001B[0m\u001B[1;33m\u001B[0m\u001B[0m\n",
      "\u001B[1;31mKeyError\u001B[0m: \"None of ['SNo'] are in the columns\""
     ]
    }
   ],
   "source": [
    "p2.set_index([\"SNo\"], inplace=True)\n",
    "p2"
   ],
   "metadata": {
    "collapsed": false,
    "pycharm": {
     "name": "#%%\n"
    }
   }
  },
  {
   "cell_type": "markdown",
   "source": [
    "### 2.5 - A Filtering Operation"
   ],
   "metadata": {
    "collapsed": false,
    "pycharm": {
     "name": "#%% md\n"
    }
   }
  },
  {
   "cell_type": "markdown",
   "source": [
    "Filters the dataset so that only entries with a \"Recovered\" value greater than the mean will be included. <br>\n",
    "This reduces the dataset by a factor of ten."
   ],
   "metadata": {
    "collapsed": false,
    "pycharm": {
     "name": "#%% md\n"
    }
   }
  },
  {
   "cell_type": "code",
   "execution_count": null,
   "outputs": [],
   "source": [
    "p2 = p2[p2.Recovered > p2.Recovered.mean()]\n",
    "p2"
   ],
   "metadata": {
    "collapsed": false,
    "pycharm": {
     "name": "#%%\n"
    }
   }
  },
  {
   "cell_type": "markdown",
   "source": [
    "### 2.7b - to_csv()"
   ],
   "metadata": {
    "collapsed": false,
    "pycharm": {
     "name": "#%% md\n"
    }
   }
  },
  {
   "cell_type": "markdown",
   "source": [
    "Saves the filtered dataframe to \"test_output.csv\" in the working folder."
   ],
   "metadata": {
    "collapsed": false,
    "pycharm": {
     "name": "#%% md\n"
    }
   }
  },
  {
   "cell_type": "code",
   "execution_count": null,
   "outputs": [],
   "source": [
    "p2.to_csv(\"test_output.csv\")\n"
   ],
   "metadata": {
    "collapsed": false,
    "pycharm": {
     "name": "#%%\n"
    }
   }
  },
  {
   "cell_type": "markdown",
   "source": [
    "## Stage 3"
   ],
   "metadata": {
    "collapsed": false,
    "pycharm": {
     "name": "#%% md\n"
    }
   }
  },
  {
   "cell_type": "markdown",
   "source": [
    "### Part 1 - NaN"
   ],
   "metadata": {
    "collapsed": false
   }
  },
  {
   "cell_type": "markdown",
   "source": [
    "#### 1.1 - isna()"
   ],
   "metadata": {
    "collapsed": false
   }
  },
  {
   "cell_type": "code",
   "execution_count": null,
   "outputs": [],
   "source": [
    "p3 = df\n",
    "p3.isna().sum()"
   ],
   "metadata": {
    "collapsed": false,
    "pycharm": {
     "name": "#%%\n"
    }
   }
  },
  {
   "cell_type": "markdown",
   "source": [
    "There are 62,045 missing values in the table; all located under the Province/State column."
   ],
   "metadata": {
    "collapsed": false,
    "pycharm": {
     "name": "#%% md\n"
    }
   }
  },
  {
   "cell_type": "markdown",
   "source": [
    "#### 1.3 - dropna()"
   ],
   "metadata": {
    "collapsed": false
   }
  },
  {
   "cell_type": "markdown",
   "source": [
    "Drops all of the rows with null values. <br>\n",
    "Displays a count of all remaining NaN values to show"
   ],
   "metadata": {
    "collapsed": false
   }
  },
  {
   "cell_type": "code",
   "execution_count": null,
   "outputs": [],
   "source": [
    "trunc = p3.dropna()\n",
    "trunc.isna().sum().sum() # Total count of NaN values"
   ],
   "metadata": {
    "collapsed": false,
    "pycharm": {
     "name": "#%%\n"
    }
   }
  },
  {
   "cell_type": "markdown",
   "source": [
    "#### 1.2 - fillna()"
   ],
   "metadata": {
    "collapsed": false,
    "pycharm": {
     "name": "#%% md\n"
    }
   }
  },
  {
   "cell_type": "markdown",
   "source": [
    "Instead of dropping the null values, this replaces them with \"Undefined\". <br>\n",
    "Prints a row with a null value before/after the modification to show the change."
   ],
   "metadata": {
    "collapsed": false
   }
  },
  {
   "cell_type": "code",
   "execution_count": null,
   "outputs": [],
   "source": [
    "print(p3[\"Province/State\"][35])\n",
    "p3.fillna(\"Undefined\", inplace=True)\n",
    "print(p3[\"Province/State\"][35])\n",
    "p3.isna().sum().sum() # Total count of NaN values."
   ],
   "metadata": {
    "collapsed": false,
    "pycharm": {
     "name": "#%%\n"
    }
   }
  },
  {
   "cell_type": "markdown",
   "source": [
    "### Part 2 - Plotting"
   ],
   "metadata": {
    "collapsed": false,
    "pycharm": {
     "name": "#%% md\n"
    }
   }
  },
  {
   "cell_type": "markdown",
   "source": [
    "#### 2.1 - Histograms"
   ],
   "metadata": {
    "collapsed": false
   }
  },
  {
   "cell_type": "markdown",
   "source": [
    "Creates a set of histograms by sorted data:<br>\n",
    "1) Confirmed Cases:"
   ],
   "metadata": {
    "collapsed": false
   }
  },
  {
   "cell_type": "code",
   "execution_count": null,
   "outputs": [],
   "source": [
    "# Using the filtered plot from Stage 2 to reduce migraines (caused by the number of data points) slightly.\n",
    "p2_state_hist = p2[\"Confirmed\"].hist(bins=\"auto\", log=True)"
   ],
   "metadata": {
    "collapsed": false,
    "pycharm": {
     "name": "#%%\n"
    }
   }
  },
  {
   "cell_type": "markdown",
   "source": [
    "2) Recovered Cases:"
   ],
   "metadata": {
    "collapsed": false,
    "pycharm": {
     "name": "#%% md\n"
    }
   }
  },
  {
   "cell_type": "code",
   "execution_count": null,
   "outputs": [],
   "source": [
    "p2_chaos_hist = p2[\"Recovered\"].hist(bins=\"auto\", log=True)"
   ],
   "metadata": {
    "collapsed": false,
    "pycharm": {
     "name": "#%%\n"
    }
   }
  },
  {
   "cell_type": "markdown",
   "source": [
    "3) Deaths:"
   ],
   "metadata": {
    "collapsed": false,
    "pycharm": {
     "name": "#%% md\n"
    }
   }
  },
  {
   "cell_type": "code",
   "execution_count": null,
   "outputs": [],
   "source": [
    "p2_balanced_hist = p2[\"Deaths\"].hist(bins=\"auto\", log=True)"
   ],
   "metadata": {
    "collapsed": false,
    "pycharm": {
     "name": "#%%\n"
    }
   }
  },
  {
   "cell_type": "markdown",
   "source": [
    "#### 2.2 - Plots Within Plots"
   ],
   "metadata": {
    "collapsed": false,
    "pycharm": {
     "name": "#%% md\n"
    }
   }
  },
  {
   "cell_type": "markdown",
   "source": [
    "All three plots, but together now!"
   ],
   "metadata": {
    "collapsed": false
   }
  },
  {
   "cell_type": "code",
   "execution_count": null,
   "outputs": [],
   "source": [
    "p2_grouped_hist = p2.hist(column=[\"Confirmed\", \"Recovered\", \"Deaths\"],\n",
    "                          bins=\"auto\", layout=(3, 1), figsize=(10, 10), log=True)"
   ],
   "metadata": {
    "collapsed": false,
    "pycharm": {
     "name": "#%%\n"
    }
   }
  },
  {
   "cell_type": "markdown",
   "source": [
    "#### 2.3 - Single-Line Graph"
   ],
   "metadata": {
    "collapsed": false,
    "pycharm": {
     "name": "#%% md\n"
    }
   }
  },
  {
   "cell_type": "markdown",
   "source": [
    "This is an attempt at graphing recovered cases over time. <br>\n",
    "*It turns out that 20,000 data points don't make for a good line graph.*"
   ],
   "metadata": {
    "collapsed": false
   }
  },
  {
   "cell_type": "code",
   "execution_count": null,
   "outputs": [],
   "source": [
    "p2[\"ObservationDate\"] = pd.to_datetime(p2[\"ObservationDate\"])\n",
    "p2.sort_values(by=\"ObservationDate\", ascending=True, inplace=True)\n",
    "p2.plot(x=\"ObservationDate\", y=\"Recovered\", figsize=(10,5))"
   ],
   "metadata": {
    "collapsed": false,
    "pycharm": {
     "name": "#%%\n"
    }
   }
  },
  {
   "cell_type": "markdown",
   "source": [
    "#### 2.4 - Multi-Line Graph"
   ],
   "metadata": {
    "collapsed": false
   }
  },
  {
   "cell_type": "markdown",
   "source": [
    "Now with less data points! <br>\n",
    "Creates a function to reduce redundant code in this section somewhat.\n"
   ],
   "metadata": {
    "collapsed": false
   }
  },
  {
   "cell_type": "code",
   "execution_count": null,
   "outputs": [],
   "source": [
    "def aggravate(tmp_series, target):\n",
    "    return tmp_series.aggregate({target:\"last\"}).groupby([\"Country/Region\"], as_index=False,\n",
    "                                                         dropna=False).aggregate({target:\"sum\"})[target]"
   ],
   "metadata": {
    "collapsed": false,
    "pycharm": {
     "name": "#%%\n"
    }
   }
  },
  {
   "cell_type": "markdown",
   "source": [
    "Creates a temporary *unsorted* dataframe for use with the \"aggravate\" function."
   ],
   "metadata": {
    "collapsed": false,
    "pycharm": {
     "name": "#%% md\n"
    }
   }
  },
  {
   "cell_type": "code",
   "source": [
    "tmp_ser = df.groupby([\"Country/Region\", \"Province/State\"], as_index=False, dropna=False)#.aggregate({\"Confirmed\":\"last\"})"
   ],
   "metadata": {
    "collapsed": false,
    "pycharm": {
     "name": "#%%\n"
    }
   },
   "execution_count": null,
   "outputs": []
  },
  {
   "cell_type": "markdown",
   "source": [
    "Creates a new dataframe (lg) which is filtered to both make the data more meaningful and reduce the number of datapoints.\n"
   ],
   "metadata": {
    "collapsed": false,
    "pycharm": {
     "name": "#%% md\n"
    }
   }
  },
  {
   "cell_type": "code",
   "execution_count": null,
   "outputs": [],
   "source": [
    "lg = pd.DataFrame()\n",
    "lg[\"Country\"] = (tmp_ser.aggregate({\"Confirmed\":\"last\"}).groupby([\"Country/Region\"], as_index=False,dropna=False).\n",
    "                 aggregate({\"Confirmed\":\"sum\"}))[\"Country/Region\"]\n",
    "lg[\"Confirmed\"] = aggravate(tmp_ser, \"Confirmed\")\n",
    "lg[\"Recovered\"] = aggravate(tmp_ser, \"Recovered\")\n",
    "lg[\"Deaths\"] = aggravate(tmp_ser, \"Deaths\")"
   ],
   "metadata": {
    "collapsed": false,
    "pycharm": {
     "name": "#%%\n"
    }
   }
  },
  {
   "cell_type": "markdown",
   "source": [
    "Creates a line graph out of the newly-filtered function using the number of confirmed cases as the x-axis."
   ],
   "metadata": {
    "collapsed": false,
    "pycharm": {
     "name": "#%% md\n"
    }
   }
  },
  {
   "cell_type": "code",
   "execution_count": null,
   "outputs": [],
   "source": [
    "lg.sort_values(by=\"Confirmed\", ascending=True, inplace=True)\n",
    "lg.plot('Confirmed', legend=True, logx=True, logy=True)\n",
    "mp.pyplot.annotate('|---?---|', (10**7, 10**7))\n",
    "mp.pyplot.annotate('|----------?----------|', (0.5, 100))"
   ],
   "metadata": {
    "collapsed": false,
    "pycharm": {
     "name": "#%%\n"
    }
   }
  },
  {
   "cell_type": "markdown",
   "source": [
    "#### 2.4 - Multi-Line Graph"
   ],
   "metadata": {
    "collapsed": false
   }
  },
  {
   "cell_type": "markdown",
   "source": [
    "Now with beautiful labels!"
   ],
   "metadata": {
    "collapsed": false
   }
  },
  {
   "cell_type": "code",
   "execution_count": null,
   "outputs": [],
   "source": [
    "lg_bar = lg\n",
    "lg_bar.set_index(\"Country\")\n",
    "lg_bar.plot.bar(\"Country\", \"Confirmed\", logy=True)\n",
    "\n",
    "mp.pyplot.savefig(\"modern_art.png\")"
   ],
   "metadata": {
    "collapsed": false,
    "pycharm": {
     "name": "#%%\n"
    }
   }
  },
  {
   "cell_type": "markdown",
   "source": [
    "# -- Run --\n"
   ],
   "metadata": {
    "collapsed": false,
    "pycharm": {
     "name": "#%% md\n"
    }
   }
  },
  {
   "cell_type": "markdown",
   "source": [
    "Function which changes the poorly-named-countries into ones that PyCountry can recognize."
   ],
   "metadata": {
    "collapsed": false
   }
  },
  {
   "cell_type": "code",
   "execution_count": null,
   "outputs": [],
   "source": [
    "def sanitize_csv(original, new):\n",
    "    if new == \"nil\" or new is None:\n",
    "        df[\"Country\"] = df[\"Country\"].str.replace(original, \"\", regex=True)\n",
    "    else:\n",
    "        df[\"Country\"] = df[\"Country\"].str.replace(original, new, regex=True)"
   ],
   "metadata": {
    "collapsed": false,
    "pycharm": {
     "name": "#%%\n"
    }
   }
  },
  {
   "cell_type": "markdown",
   "source": [
    "Prepares the table for use by dropping unneeded columns and renaming an annoying one."
   ],
   "metadata": {
    "collapsed": false
   }
  },
  {
   "cell_type": "code",
   "execution_count": null,
   "outputs": [],
   "source": [
    "df.drop([\"SNo\", \"ObservationDate\", \"Recovered\", \"Last Update\", \"Deaths\"], axis=1, inplace=True)\n",
    "df.rename(columns = {\"Country/Region\": \"Country\"}, inplace=True)"
   ],
   "metadata": {
    "collapsed": false,
    "pycharm": {
     "name": "#%%\n"
    }
   }
  },
  {
   "cell_type": "markdown",
   "source": [
    "\"Sanitizes\" the country names so that PyCountry will recognize them, then collapses them all together."
   ],
   "metadata": {
    "collapsed": false,
    "pycharm": {
     "name": "#%% md\n"
    }
   }
  },
  {
   "cell_type": "code",
   "execution_count": null,
   "outputs": [],
   "source": [
    "for row in bn.itertuples(): sanitize_csv(row[1], row[2])"
   ],
   "metadata": {
    "collapsed": false,
    "pycharm": {
     "name": "#%%\n"
    }
   }
  },
  {
   "cell_type": "markdown",
   "source": [
    "Groups by and finds the maximum value for each state (the entries are cumulative, so a single group would result in an\n",
    "absurd amount of cases.)"
   ],
   "metadata": {
    "collapsed": false,
    "pycharm": {
     "name": "#%% md\n"
    }
   }
  },
  {
   "cell_type": "code",
   "execution_count": null,
   "outputs": [],
   "source": [
    "df = df.groupby([\"Country\", \"Province/State\"], as_index=False, dropna=False).aggregate({\"Confirmed\":\"last\"})"
   ],
   "metadata": {
    "collapsed": false,
    "pycharm": {
     "name": "#%%\n"
    }
   }
  },
  {
   "cell_type": "markdown",
   "source": [
    "Groups the table again by country, finding the sum of all of the states."
   ],
   "metadata": {
    "collapsed": false,
    "pycharm": {
     "name": "#%% md\n"
    }
   }
  },
  {
   "cell_type": "code",
   "execution_count": null,
   "outputs": [],
   "source": [
    "df = df.groupby([\"Country\"], as_index=False, dropna=False).aggregate({\"Confirmed\":\"sum\"})"
   ],
   "metadata": {
    "collapsed": false,
    "pycharm": {
     "name": "#%%\n"
    }
   }
  },
  {
   "cell_type": "markdown",
   "source": [
    "Uses PyCountry to find the three-letter acronym for each country for use with Folium."
   ],
   "metadata": {
    "collapsed": false,
    "pycharm": {
     "name": "#%% md\n"
    }
   }
  },
  {
   "cell_type": "code",
   "execution_count": null,
   "outputs": [],
   "source": [
    "for row in df[\"Country\"]: df[\"Country\"] = df[\"Country\"].replace(row, pc.countries.search_fuzzy(row)[0].alpha_3)\n"
   ],
   "metadata": {
    "collapsed": false,
    "pycharm": {
     "name": "#%%\n"
    }
   }
  },
  {
   "cell_type": "markdown",
   "source": [
    "Takes the log of all values in order to make a more meaningful map. <br>\n",
    "Without this step, only three countries would be colored anything other than yellow."
   ],
   "metadata": {
    "collapsed": false,
    "pycharm": {
     "name": "#%% md\n"
    }
   }
  },
  {
   "cell_type": "code",
   "execution_count": null,
   "outputs": [],
   "source": [
    "for row in df[\"Confirmed\"]: df[\"Confirmed\"] = df[\"Confirmed\"].replace(row, np.log(row))\n",
    "df.dropna(inplace=True) # Necessary to remove broken entries created by the above process."
   ],
   "metadata": {
    "collapsed": false,
    "pycharm": {
     "name": "#%%\n"
    }
   }
  },
  {
   "cell_type": "markdown",
   "source": [
    "Creates the Folium map."
   ],
   "metadata": {
    "collapsed": false,
    "pycharm": {
     "name": "#%% md\n"
    }
   }
  },
  {
   "cell_type": "code",
   "source": [
    "outbreak_map = fol.Map(location=[0, 0], zoom_start=0)\n",
    "\n",
    "fol.Choropleth(\n",
    "    name = \"COVID Cases\",\n",
    "    geo_data = ct, # Polygonal data to draw the country map.\n",
    "    data = df, # COVID case data\n",
    "    columns = [\"Country\", \"Confirmed\"], # Column to match with the key, count-based column.\n",
    "    key_on = \"feature.id\", # Establishes the key of the country JSON.\n",
    "    fill_color = \"YlOrRd\", # Color scheme\n",
    "    fill_opacity = 0.75,\n",
    "    line_opacity = 0.25,\n",
    "    nan_fill_opacity = 0,\n",
    "    legend_name = \"Confirmed Cases\",\n",
    "    highlight = True,\n",
    ").add_to(outbreak_map)"
   ],
   "metadata": {
    "collapsed": false,
    "pycharm": {
     "name": "#%%\n"
    }
   },
   "execution_count": null,
   "outputs": []
  },
  {
   "cell_type": "markdown",
   "source": [
    "Creates an overlay for the above folium map which displays the confirmed count."
   ],
   "metadata": {
    "collapsed": false,
    "pycharm": {
     "name": "#%% md\n"
    }
   }
  },
  {
   "cell_type": "code",
   "source": [
    "OverlayData = fol.features.GeoJson(\n",
    "    mc,\n",
    "    style_function = lambda x: {'fillColor': '#ffffff', 'color':'#000000', 'fillOpacity': 0.2, 'weight': 0.2},\n",
    "    highlight_function = lambda x: {'fillColor': '#000000', 'color':'#000000', 'fillOpacity': 0.50, 'weight': 0.1},\n",
    "    control = False,\n",
    "    tooltip = fol.features.GeoJsonTooltip(\n",
    "        fields = [\"name\", \"Confirmed\"],\n",
    "        aliases = [\"Country: \", \"Confirmed Cases: \"],\n",
    "        style = \"background-color: white; color: #333333; font-family: arial; font-size: 12px; padding: 10px;\"\n",
    "    )\n",
    ")\n",
    "\n",
    "outbreak_map.add_child(OverlayData)\n",
    "outbreak_map.keep_in_front(OverlayData)\n",
    "fol.LayerControl().add_to(outbreak_map)"
   ],
   "metadata": {
    "collapsed": false,
    "pycharm": {
     "name": "#%%\n"
    }
   },
   "execution_count": null,
   "outputs": []
  },
  {
   "cell_type": "code",
   "execution_count": null,
   "outputs": [],
   "source": [
    "# Displays the map\n",
    "outbreak_map"
   ],
   "metadata": {
    "collapsed": false,
    "pycharm": {
     "name": "#%%\n"
    }
   }
  }
 ],
 "metadata": {
  "kernelspec": {
   "display_name": "Python 3",
   "language": "python",
   "name": "python3"
  },
  "language_info": {
   "codemirror_mode": {
    "name": "ipython",
    "version": 2
   },
   "file_extension": ".py",
   "mimetype": "text/x-python",
   "name": "python",
   "nbconvert_exporter": "python",
   "pygments_lexer": "ipython2",
   "version": "2.7.6"
  }
 },
 "nbformat": 4,
 "nbformat_minor": 0
}