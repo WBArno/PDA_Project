{
 "cells": [
  {
   "cell_type": "markdown",
   "source": [
    "# Data taken from..."
   ],
   "metadata": {
    "collapsed": false,
    "pycharm": {
     "name": "#%% md\n"
    }
   }
  },
  {
   "cell_type": "code",
   "source": [
    "from urllib.request import urlopen\n",
    "import pandas as pd\n",
    "\n",
    "CSV_DATA = \"https://gist.githubusercontent.com/WBArno/343b843e0b89ee4d7e23e2cdcc03923a/raw/4882fa7c9b6d3263f2579da7e982db2d5d45bdd9/covid_19_data.csv\"\n",
    "df = pd.read_csv(urlopen(CSV_DATA))\n",
    "\n",
    "# Displays information about the dataset\n",
    "print(\"\\nData Types:\\n\", df.dtypes)\n",
    "\n",
    "print(\"\\n\\nTop of Set:\\n\", df.head())\n",
    "\n",
    "print(\"\\n\\nSummary:\\n\", df.describe())\n"
   ],
   "metadata": {
    "collapsed": false,
    "pycharm": {
     "name": "#%%\n"
    }
   },
   "execution_count": null,
   "outputs": []
  }
 ],
 "metadata": {
  "kernelspec": {
   "display_name": "Python 3",
   "language": "python",
   "name": "python3"
  },
  "language_info": {
   "codemirror_mode": {
    "name": "ipython",
    "version": 2
   },
   "file_extension": ".py",
   "mimetype": "text/x-python",
   "name": "python",
   "nbconvert_exporter": "python",
   "pygments_lexer": "ipython2",
   "version": "2.7.6"
  }
 },
 "nbformat": 4,
 "nbformat_minor": 0
}