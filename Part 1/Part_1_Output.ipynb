{
 "cells": [
  {
   "cell_type": "markdown",
   "source": [
    "# Data taken from..."
   ],
   "metadata": {
    "collapsed": false,
    "pycharm": {
     "name": "#%% md\n"
    }
   }
  },
  {
   "cell_type": "code",
   "source": [
    "from urllib.request import urlopen\n",
    "import pandas as pd\n",
    "\n",
    "CSV_DATA = \"https://gist.githubusercontent.com/WBArno/343b843e0b89ee4d7e23e2cdcc03923a/raw/4882fa7c9b6d3263f2579da7e982db2d5d45bdd9/covid_19_data.csv\"\n",
    "df = pd.read_csv(urlopen(CSV_DATA))\n",
    "\n",
    "# Displays information about the dataset\n",
    "print(\"\\nData Types:\\n\", df.dtypes)\n",
    "\n",
    "print(\"\\n\\nTop of Set:\\n\", df.head())\n",
    "\n",
    "print(\"\\n\\nSummary:\\n\", df.describe())\n"
   ],
   "metadata": {
    "collapsed": false,
    "pycharm": {
     "name": "#%%\n"
    }
   },
   "execution_count": 1,
   "outputs": [
    {
     "name": "stdout",
     "output_type": "stream",
     "text": [
      "\n",
      "Data Types:\n",
      " SNo                  int64\n",
      "ObservationDate     object\n",
      "Province/State      object\n",
      "Country/Region      object\n",
      "Last Update         object\n",
      "Confirmed          float64\n",
      "Deaths             float64\n",
      "Recovered          float64\n",
      "dtype: object\n",
      "\n",
      "\n",
      "Top of Set:\n",
      "    SNo ObservationDate Province/State  Country/Region      Last Update  \\\n",
      "0    1      01/22/2020          Anhui  Mainland China  1/22/2020 17:00   \n",
      "1    2      01/22/2020        Beijing  Mainland China  1/22/2020 17:00   \n",
      "2    3      01/22/2020      Chongqing  Mainland China  1/22/2020 17:00   \n",
      "3    4      01/22/2020         Fujian  Mainland China  1/22/2020 17:00   \n",
      "4    5      01/22/2020          Gansu  Mainland China  1/22/2020 17:00   \n",
      "\n",
      "   Confirmed  Deaths  Recovered  \n",
      "0        1.0     0.0        0.0  \n",
      "1       14.0     0.0        0.0  \n",
      "2        6.0     0.0        0.0  \n",
      "3        1.0     0.0        0.0  \n",
      "4        0.0     0.0        0.0  \n",
      "\n",
      "\n",
      "Summary:\n",
      "                  SNo     Confirmed         Deaths     Recovered\n",
      "count  236017.000000  2.360170e+05  236017.000000  2.360170e+05\n",
      "mean   118009.000000  5.715800e+04    1487.719368  3.393027e+04\n",
      "std     68132.383579  1.834751e+05    4770.414639  1.474800e+05\n",
      "min         1.000000 -3.028440e+05    -178.000000 -8.544050e+05\n",
      "25%     59005.000000  7.270000e+02       9.000000  1.000000e+01\n",
      "50%    118009.000000  6.695000e+03     127.000000  1.224000e+03\n",
      "75%    177013.000000  3.349900e+04     880.000000  1.263900e+04\n",
      "max    236017.000000  3.664050e+06  108208.000000  6.399531e+06\n"
     ]
    }
   ]
  }
 ],
 "metadata": {
  "kernelspec": {
   "display_name": "Python 3",
   "language": "python",
   "name": "python3"
  },
  "language_info": {
   "codemirror_mode": {
    "name": "ipython",
    "version": 2
   },
   "file_extension": ".py",
   "mimetype": "text/x-python",
   "name": "python",
   "nbconvert_exporter": "python",
   "pygments_lexer": "ipython2",
   "version": "2.7.6"
  }
 },
 "nbformat": 4,
 "nbformat_minor": 0
}