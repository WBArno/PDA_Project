{
 "cells": [
  {
   "cell_type": "markdown",
   "source": [
    "# Introduction"
   ],
   "metadata": {
    "collapsed": false
   }
  },
  {
   "cell_type": "markdown",
   "source": [
    "This program draws a \"heat map\" of COVID cases based on the Covid-19 dataset. The dataset includes information about\n",
    "case counts over time. <br>\n",
    "It relies on a pre-made country map JSON to make the Folium overlay, and a \"better_names\" csv which I wrote so that the\n",
    "code wouldn't get too cluttered."
   ],
   "metadata": {
    "collapsed": false,
    "pycharm": {
     "name": "#%% md\n"
    }
   }
  },
  {
   "cell_type": "markdown",
   "source": [
    "# Main Program"
   ],
   "metadata": {
    "collapsed": false,
    "pycharm": {
     "name": "#%% md\n"
    }
   }
  },
  {
   "cell_type": "markdown",
   "source": [
    "## Init"
   ],
   "metadata": {
    "collapsed": false
   }
  },
  {
   "cell_type": "markdown",
   "source": [
    "Imports standard libraries:"
   ],
   "metadata": {
    "collapsed": false,
    "pycharm": {
     "name": "#%% md\n"
    }
   }
  },
  {
   "cell_type": "code",
   "execution_count": null,
   "outputs": [],
   "source": [
    "import numpy as np\n",
    "import pandas as pd\n",
    "import matplotlib as mp\n",
    "import folium as fol\n",
    "import pycountry as pc\n",
    "from urllib.request import urlopen\n",
    "from json import load"
   ],
   "metadata": {
    "collapsed": false,
    "pycharm": {
     "name": "#%%\n"
    }
   }
  },
  {
   "cell_type": "markdown",
   "source": [
    "Loads data files on GitHub (for Colab)"
   ],
   "metadata": {
    "collapsed": false,
    "pycharm": {
     "name": "#%% md\n"
    }
   }
  },
  {
   "cell_type": "code",
   "execution_count": null,
   "outputs": [],
   "source": [
    "COVID_DATA_URL = \"https://raw.githubusercontent.com/WBArno/PDA_Project/master/Dat/covid_19_data.csv\"\n",
    "BETTER_NAMES_URL = \"https://raw.githubusercontent.com/WBArno/PDA_Project/master/Dat/better_names.csv\"\n",
    "MERGED_COUNTRIES_URL = \"https://raw.githubusercontent.com/WBArno/PDA_Project/master/Dat/merged_countries.json\"\n",
    "\n",
    "# df = pd.read_csv(COVID_DATA_URL)\n",
    "# bn = pd.read_csv(BETTER_NAMES_URL)\n",
    "# ct = load(urlopen(MERGED_COUNTRIES_URL))"
   ],
   "metadata": {
    "collapsed": false,
    "pycharm": {
     "name": "#%%\n"
    }
   }
  },
  {
   "cell_type": "markdown",
   "source": [
    "Loads Data Files (for execution locally/ GitHub)."
   ],
   "metadata": {
    "collapsed": false,
    "pycharm": {
     "name": "#%% md\n"
    }
   }
  },
  {
   "cell_type": "code",
   "execution_count": null,
   "outputs": [],
   "source": [
    "df = pd.read_csv(\"../Dat/covid_19_data.csv\")\n",
    "bn = pd.read_csv(\"../Dat/better_names.csv\")\n",
    "ct = load(open(\"../Dat/merged_countries.json\"))\n"
   ],
   "metadata": {
    "collapsed": false,
    "pycharm": {
     "name": "#%%\n"
    }
   }
  },
  {
   "cell_type": "markdown",
   "source": [
    "## -- Run --"
   ],
   "metadata": {
    "collapsed": false
   }
  },
  {
   "cell_type": "markdown",
   "source": [
    "Function which changes the poorly-named-countries into ones that PyCountry can recognize."
   ],
   "metadata": {
    "collapsed": false
   }
  },
  {
   "cell_type": "code",
   "execution_count": null,
   "outputs": [],
   "source": [
    "def sanitize_csv(original, new):\n",
    "    if new == \"nil\" or new is None:\n",
    "        df[\"Country\"] = df[\"Country\"].str.replace(original, \"\", regex=True)\n",
    "    else:\n",
    "        df[\"Country\"] = df[\"Country\"].str.replace(original, new, regex=True)"
   ],
   "metadata": {
    "collapsed": false,
    "pycharm": {
     "name": "#%%\n"
    }
   }
  },
  {
   "cell_type": "markdown",
   "source": [
    "Prepares the table for use by dropping unneeded columns and renaming an annoying one.\n"
   ],
   "metadata": {
    "collapsed": false
   }
  },
  {
   "cell_type": "code",
   "execution_count": null,
   "outputs": [],
   "source": [
    "df.drop([\"SNo\", \"ObservationDate\", \"Recovered\", \"Last Update\", \"Deaths\"], axis=1, inplace=True)\n",
    "df.rename(columns = {\"Country/Region\": \"Country\"}, inplace=True)"
   ],
   "metadata": {
    "collapsed": false,
    "pycharm": {
     "name": "#%%\n"
    }
   }
  },
  {
   "cell_type": "markdown",
   "source": [
    "\"Sanitizes\" the country names so that PyCountry will recognize them, then collapses them all together."
   ],
   "metadata": {
    "collapsed": false
   }
  },
  {
   "cell_type": "code",
   "execution_count": null,
   "outputs": [],
   "source": [
    "for row in bn.itertuples(): sanitize_csv(row[1], row[2])"
   ],
   "metadata": {
    "collapsed": false,
    "pycharm": {
     "name": "#%%\n"
    }
   }
  },
  {
   "cell_type": "markdown",
   "source": [
    "Groups by and finds the maximum value for each state (the entries are cumulative, so a single group would result in an\n",
    "absurd amount of cases.)"
   ],
   "metadata": {
    "collapsed": false
   }
  },
  {
   "cell_type": "code",
   "execution_count": null,
   "outputs": [],
   "source": [
    "df = df.groupby([\"Country\", \"Province/State\"], as_index=False, dropna=False).aggregate({\"Confirmed\":\"last\"})"
   ],
   "metadata": {
    "collapsed": false,
    "pycharm": {
     "name": "#%%\n"
    }
   }
  },
  {
   "cell_type": "markdown",
   "source": [
    "Groups the table again by country, finding the sum of all of the states."
   ],
   "metadata": {
    "collapsed": false
   }
  },
  {
   "cell_type": "code",
   "execution_count": null,
   "outputs": [],
   "source": [
    "df = df.groupby([\"Country\"], as_index=False, dropna=False).aggregate({\"Confirmed\":\"sum\"})"
   ],
   "metadata": {
    "collapsed": false,
    "pycharm": {
     "name": "#%%\n"
    }
   }
  },
  {
   "cell_type": "markdown",
   "source": [
    "Uses PyCountry to find the three-letter acronym for each country for use with Folium."
   ],
   "metadata": {
    "collapsed": false
   }
  },
  {
   "cell_type": "code",
   "execution_count": null,
   "outputs": [],
   "source": [
    "for row in df[\"Country\"]: df[\"Country\"] = df[\"Country\"].replace(row, pc.countries.search_fuzzy(row)[0].alpha_3)"
   ],
   "metadata": {
    "collapsed": false,
    "pycharm": {
     "name": "#%%\n"
    }
   }
  },
  {
   "cell_type": "markdown",
   "source": [
    "Takes the log of all values in order to make a more meaningful map. <br>\n",
    "Without this step, only three countries would be colored anything other than yellow."
   ],
   "metadata": {
    "collapsed": false
   }
  },
  {
   "cell_type": "code",
   "execution_count": null,
   "outputs": [],
   "source": [
    "for row in df[\"Confirmed\"]: df[\"Confirmed\"] = df[\"Confirmed\"].replace(row, np.log(row))\n",
    "df.dropna(inplace=True) # Necessary to remove broken entries created by the above process."
   ],
   "metadata": {
    "collapsed": false,
    "pycharm": {
     "name": "#%%\n"
    }
   }
  },
  {
   "cell_type": "markdown",
   "source": [
    "Creates the Folium map."
   ],
   "metadata": {
    "collapsed": false
   }
  },
  {
   "cell_type": "code",
   "execution_count": null,
   "outputs": [],
   "source": [
    "outbreak_map = fol.Map(location=[0, 0], zoom_start=0)\n",
    "\n",
    "fol.Choropleth(\n",
    "    name = \"COVID Cases\",\n",
    "    geo_data = ct, # Polygonal data to draw the country map.\n",
    "    data = df, # COVID case data\n",
    "    columns = [\"Country\", \"Confirmed\"], # Column to match with the key, count-based column.\n",
    "    key_on = \"feature.id\", # Establishes the key of the country JSON.\n",
    "    fill_color = \"YlOrRd\", # Color scheme\n",
    "    fill_opacity = 0.75,\n",
    "    line_opacity = 0.25,\n",
    "    nan_fill_opacity = 0,\n",
    "    legend_name = \"Confirmed Cases\",\n",
    "    highlight = True,\n",
    ").add_to(outbreak_map)"
   ],
   "metadata": {
    "collapsed": false,
    "pycharm": {
     "name": "#%%\n"
    }
   }
  },
  {
   "cell_type": "markdown",
   "source": [
    "Creates an overlay for the above folium map which displays the confirmed count."
   ],
   "metadata": {
    "collapsed": false
   }
  },
  {
   "cell_type": "code",
   "execution_count": null,
   "outputs": [],
   "source": [
    "OverlayData = fol.features.GeoJson(\n",
    "    ct,\n",
    "    style_function = lambda x: {'fillColor': '#ffffff', 'color':'#000000', 'fillOpacity': 0.2, 'weight': 0.2},\n",
    "    highlight_function = lambda x: {'fillColor': '#000000', 'color':'#000000', 'fillOpacity': 0.50, 'weight': 0.1},\n",
    "    control = False,\n",
    "    tooltip = fol.features.GeoJsonTooltip(\n",
    "        fields = [\"name\", \"Confirmed\"],\n",
    "        aliases = [\"Country: \", \"Confirmed Cases: \"],\n",
    "        style = \"background-color: white; color: #333333; font-family: arial; font-size: 12px; padding: 10px;\"\n",
    "    )\n",
    ")\n",
    "\n",
    "outbreak_map.add_child(OverlayData)\n",
    "outbreak_map.keep_in_front(OverlayData)\n",
    "fol.LayerControl().add_to(outbreak_map)"
   ],
   "metadata": {
    "collapsed": false,
    "pycharm": {
     "name": "#%%\n"
    }
   }
  },
  {
   "cell_type": "markdown",
   "source": [
    "## Map of the COVID Outbreak"
   ],
   "metadata": {
    "collapsed": false,
    "pycharm": {
     "name": "#%% md\n"
    }
   }
  },
  {
   "cell_type": "code",
   "execution_count": null,
   "outputs": [],
   "source": [
    "outbreak_map"
   ],
   "metadata": {
    "collapsed": false,
    "pycharm": {
     "name": "#%%\n"
    }
   }
  },
  {
   "cell_type": "markdown",
   "source": [
    "# Project Tasks"
   ],
   "metadata": {
    "collapsed": false,
    "pycharm": {
     "name": "#%% md\n"
    }
   }
  },
  {
   "cell_type": "markdown",
   "source": [
    "## Stage 1 - Using Pandas"
   ],
   "metadata": {
    "collapsed": false,
    "pycharm": {
     "name": "#%% md\n"
    }
   }
  },
  {
   "cell_type": "markdown",
   "source": [
    "### 1.3 - Loading a Dataframe"
   ],
   "metadata": {
    "collapsed": false,
    "pycharm": {
     "name": "#%% md\n"
    }
   }
  },
  {
   "cell_type": "markdown",
   "source": [
    "Loads the dataframe again; the import call is commented out, as it was done earlier."
   ],
   "metadata": {
    "collapsed": false,
    "pycharm": {
     "name": "#%% md\n"
    }
   }
  },
  {
   "cell_type": "code",
   "execution_count": null,
   "outputs": [],
   "source": [
    "# import pandas as pd\n",
    "CSV_DATA = \"https://raw.githubusercontent.com/WBArno/PDA_Project/master/Dat/covid_19_data.csv\"\n",
    "\n",
    "# df = pd.read_csv(CSV_DATA)                # Loads data from GitHub (CoLab)\n",
    "df = pd.read_csv(\"../Dat/covid_19_data.csv\")# Loads local data (Local/Git)"
   ],
   "metadata": {
    "collapsed": false,
    "pycharm": {
     "name": "#%%\n"
    }
   }
  },
  {
   "cell_type": "markdown",
   "source": [
    "Sanitizes the master dataframe (again) to clean up country names."
   ],
   "metadata": {
    "collapsed": false,
    "pycharm": {
     "name": "#%% md\n"
    }
   }
  },
  {
   "cell_type": "code",
   "execution_count": null,
   "outputs": [],
   "source": [
    "df.rename(columns = {\"Country/Region\": \"Country\"}, inplace=True)\n",
    "for row in bn.itertuples(): sanitize_csv(row[1], row[2])\n",
    "df.rename(columns = {\"Country\": \"Country/Region\"}, inplace=True) # Resets title scheme back to original."
   ],
   "metadata": {
    "collapsed": false,
    "pycharm": {
     "name": "#%%\n"
    }
   }
  },
  {
   "cell_type": "markdown",
   "source": [
    "### 1.4 - Manipulation with Workflows"
   ],
   "metadata": {
    "collapsed": false,
    "pycharm": {
     "name": "#%% md\n"
    }
   }
  },
  {
   "cell_type": "markdown",
   "source": [
    "#### 1.4a - Datatypes"
   ],
   "metadata": {
    "collapsed": false,
    "pycharm": {
     "name": "#%% md\n"
    }
   }
  },
  {
   "cell_type": "markdown",
   "source": [
    "Displays the datatypes in the dataset."
   ],
   "metadata": {
    "collapsed": false,
    "pycharm": {
     "name": "#%% md\n"
    }
   }
  },
  {
   "cell_type": "code",
   "source": [
    "print(\"Data Types:\\n\", df.dtypes)"
   ],
   "metadata": {
    "collapsed": false,
    "pycharm": {
     "name": "#%%\n"
    }
   },
   "execution_count": null,
   "outputs": []
  },
  {
   "cell_type": "markdown",
   "source": [
    "#### 1.4b - Top"
   ],
   "metadata": {
    "collapsed": false
   }
  },
  {
   "cell_type": "markdown",
   "source": [
    "Displays the top of the dataframe with .head()"
   ],
   "metadata": {
    "collapsed": false
   }
  },
  {
   "cell_type": "code",
   "source": [
    "print(\"Top of Set:\\n\", df.head())"
   ],
   "metadata": {
    "collapsed": false,
    "pycharm": {
     "name": "#%%\n"
    }
   },
   "execution_count": null,
   "outputs": []
  },
  {
   "cell_type": "markdown",
   "source": [
    "#### 1.4c - Summary"
   ],
   "metadata": {
    "collapsed": false
   }
  },
  {
   "cell_type": "markdown",
   "source": [
    "Creates an automatically-generated statistical summary of the dataframe."
   ],
   "metadata": {
    "collapsed": false
   }
  },
  {
   "cell_type": "code",
   "source": [
    "print(\"Summary:\\n\", df.describe())"
   ],
   "metadata": {
    "collapsed": false,
    "pycharm": {
     "name": "#%%\n"
    }
   },
   "execution_count": null,
   "outputs": []
  },
  {
   "cell_type": "markdown",
   "source": [
    "## Stage 2 - Manipulating and Writing Data"
   ],
   "metadata": {
    "collapsed": false,
    "pycharm": {
     "name": "#%% md\n"
    }
   }
  },
  {
   "cell_type": "markdown",
   "source": [
    "### 2.4 - Adding/Editing Columns"
   ],
   "metadata": {
    "collapsed": false,
    "pycharm": {
     "name": "#%% md\n"
    }
   }
  },
  {
   "cell_type": "markdown",
   "source": [
    "Creates a new dataframe for this section."
   ],
   "metadata": {
    "collapsed": false,
    "pycharm": {
     "name": "#%% md\n"
    }
   }
  },
  {
   "cell_type": "code",
   "execution_count": null,
   "outputs": [],
   "source": [
    "p2 = df.copy()"
   ],
   "metadata": {
    "collapsed": false,
    "pycharm": {
     "name": "#%%\n"
    }
   }
  },
  {
   "cell_type": "markdown",
   "source": [
    "Combines \"Province/State\" and \"Country/Region\" into a new column (\"Location\") in the form \"Province, Country\"."
   ],
   "metadata": {
    "collapsed": false
   }
  },
  {
   "cell_type": "code",
   "execution_count": null,
   "outputs": [],
   "source": [
    "p2[\"Location\"] = p2[\"Province/State\"] + \", \" + p2[\"Country/Region\"]\n",
    "p2"
   ],
   "metadata": {
    "collapsed": false,
    "pycharm": {
     "name": "#%%\n"
    }
   }
  },
  {
   "cell_type": "markdown",
   "source": [
    "### 2.7a - Creating a Subset"
   ],
   "metadata": {
    "collapsed": false,
    "pycharm": {
     "name": "#%% md\n"
    }
   }
  },
  {
   "cell_type": "markdown",
   "source": [
    "Uses .groupby().agg() to narrow down the table into a more useful form. <br>\n",
    "Dataset is filtered before other steps to speed up the process."
   ],
   "metadata": {
    "collapsed": false,
    "pycharm": {
     "name": "#%% md\n"
    }
   }
  },
  {
   "cell_type": "code",
   "execution_count": null,
   "outputs": [],
   "source": [
    "# as_index = False so that the next stage is possible.\n",
    "p2 = p2.groupby([\"SNo\", \"ObservationDate\", \"Location\", \"Confirmed\", \"Recovered\", \"Deaths\"],\n",
    "                as_index=False).agg({\"Recovered\":\"sum\"})\n",
    "p2"
   ],
   "metadata": {
    "collapsed": false,
    "pycharm": {
     "name": "#%%\n"
    }
   }
  },
  {
   "cell_type": "markdown",
   "source": [
    "### 2.6 - set_index()"
   ],
   "metadata": {
    "collapsed": false,
    "pycharm": {
     "name": "#%% md\n"
    }
   }
  },
  {
   "cell_type": "markdown",
   "source": [
    "Sets the index to \"SNo\", which is the original index number for the dataset."
   ],
   "metadata": {
    "collapsed": false,
    "pycharm": {
     "name": "#%% md\n"
    }
   }
  },
  {
   "cell_type": "code",
   "execution_count": null,
   "outputs": [],
   "source": [
    "p2.set_index([\"SNo\"], inplace=True)\n",
    "p2"
   ],
   "metadata": {
    "collapsed": false,
    "pycharm": {
     "name": "#%%\n"
    }
   }
  },
  {
   "cell_type": "markdown",
   "source": [
    "### 2.5 - A Filtering Operation"
   ],
   "metadata": {
    "collapsed": false,
    "pycharm": {
     "name": "#%% md\n"
    }
   }
  },
  {
   "cell_type": "markdown",
   "source": [
    "Filters the dataset so that only entries with a \"Recovered\" value greater than the mean will be included. <br>\n",
    "This reduces the dataset by a factor of ten."
   ],
   "metadata": {
    "collapsed": false,
    "pycharm": {
     "name": "#%% md\n"
    }
   }
  },
  {
   "cell_type": "code",
   "execution_count": null,
   "outputs": [],
   "source": [
    "p2 = p2[p2.Recovered > p2.Recovered.mean()]\n",
    "p2"
   ],
   "metadata": {
    "collapsed": false,
    "pycharm": {
     "name": "#%%\n"
    }
   }
  },
  {
   "cell_type": "markdown",
   "source": [
    "### 2.7b - to_csv()"
   ],
   "metadata": {
    "collapsed": false,
    "pycharm": {
     "name": "#%% md\n"
    }
   }
  },
  {
   "cell_type": "markdown",
   "source": [
    "Saves the filtered dataframe to \"test_output.csv\" in the working folder."
   ],
   "metadata": {
    "collapsed": false,
    "pycharm": {
     "name": "#%% md\n"
    }
   }
  },
  {
   "cell_type": "code",
   "execution_count": null,
   "outputs": [],
   "source": [
    "p2.to_csv(\"test_output.csv\")\n"
   ],
   "metadata": {
    "collapsed": false,
    "pycharm": {
     "name": "#%%\n"
    }
   }
  },
  {
   "cell_type": "markdown",
   "source": [
    "## Stage 3 - Data Cleansing and Plotting"
   ],
   "metadata": {
    "collapsed": false,
    "pycharm": {
     "name": "#%% md\n"
    }
   }
  },
  {
   "cell_type": "markdown",
   "source": [
    "### Part 3.1 - NaN"
   ],
   "metadata": {
    "collapsed": false
   }
  },
  {
   "cell_type": "markdown",
   "source": [
    "#### 3.1.1 - isna()"
   ],
   "metadata": {
    "collapsed": false
   }
  },
  {
   "cell_type": "markdown",
   "source": [
    "Finds the number of missing values in the table by column."
   ],
   "metadata": {
    "collapsed": false,
    "pycharm": {
     "name": "#%% md\n"
    }
   }
  },
  {
   "cell_type": "code",
   "execution_count": null,
   "outputs": [],
   "source": [
    "p3 = df.copy()\n",
    "p3.isna().sum()"
   ],
   "metadata": {
    "collapsed": false,
    "pycharm": {
     "name": "#%%\n"
    }
   }
  },
  {
   "cell_type": "markdown",
   "source": [
    "There are 62,045 missing values in the table; all located under the Province/State column."
   ],
   "metadata": {
    "collapsed": false,
    "pycharm": {
     "name": "#%% md\n"
    }
   }
  },
  {
   "cell_type": "markdown",
   "source": [
    "#### 3.1.3 - dropna()"
   ],
   "metadata": {
    "collapsed": false
   }
  },
  {
   "cell_type": "markdown",
   "source": [
    "Drops all of the rows with null values. <br>\n",
    "Displays a count of all remaining NaN values to show"
   ],
   "metadata": {
    "collapsed": false
   }
  },
  {
   "cell_type": "code",
   "execution_count": null,
   "outputs": [],
   "source": [
    "trunc = p3.dropna()\n",
    "trunc.isna().sum().sum() # Total count of NaN values"
   ],
   "metadata": {
    "collapsed": false,
    "pycharm": {
     "name": "#%%\n"
    }
   }
  },
  {
   "cell_type": "markdown",
   "source": [
    "#### 3.1.2 - fillna()"
   ],
   "metadata": {
    "collapsed": false,
    "pycharm": {
     "name": "#%% md\n"
    }
   }
  },
  {
   "cell_type": "markdown",
   "source": [
    "Instead of dropping the null values, this replaces them with \"Undefined\". <br>\n",
    "Prints a row with a null value before/after the modification to show the change."
   ],
   "metadata": {
    "collapsed": false
   }
  },
  {
   "cell_type": "code",
   "execution_count": null,
   "outputs": [],
   "source": [
    "print(p3[\"Province/State\"][35])\n",
    "p3.fillna(\"Undefined\", inplace=True)\n",
    "print(p3[\"Province/State\"][35])\n",
    "p3.isna().sum().sum() # Total count of NaN values."
   ],
   "metadata": {
    "collapsed": false,
    "pycharm": {
     "name": "#%%\n"
    }
   }
  },
  {
   "cell_type": "markdown",
   "source": [
    "### Part 3.2 - Plotting"
   ],
   "metadata": {
    "collapsed": false,
    "pycharm": {
     "name": "#%% md\n"
    }
   }
  },
  {
   "cell_type": "markdown",
   "source": [
    "#### 3.2.1 - Histograms"
   ],
   "metadata": {
    "collapsed": false
   }
  },
  {
   "cell_type": "markdown",
   "source": [
    "Creates a set of histograms by sorted data:<br>\n",
    "1) Confirmed Cases:"
   ],
   "metadata": {
    "collapsed": false
   }
  },
  {
   "cell_type": "code",
   "execution_count": null,
   "outputs": [],
   "source": [
    "# Using the filtered plot from Stage 2 to reduce migraines (caused by the number of data points) slightly.\n",
    "p2_state_hist = p2[\"Confirmed\"].hist(bins=\"auto\", log=True)"
   ],
   "metadata": {
    "collapsed": false,
    "pycharm": {
     "name": "#%%\n"
    }
   }
  },
  {
   "cell_type": "markdown",
   "source": [
    "2) Recovered Cases:"
   ],
   "metadata": {
    "collapsed": false,
    "pycharm": {
     "name": "#%% md\n"
    }
   }
  },
  {
   "cell_type": "code",
   "execution_count": null,
   "outputs": [],
   "source": [
    "p2_chaos_hist = p2[\"Recovered\"].hist(bins=\"auto\", log=True)"
   ],
   "metadata": {
    "collapsed": false,
    "pycharm": {
     "name": "#%%\n"
    }
   }
  },
  {
   "cell_type": "markdown",
   "source": [
    "3) Deaths:"
   ],
   "metadata": {
    "collapsed": false,
    "pycharm": {
     "name": "#%% md\n"
    }
   }
  },
  {
   "cell_type": "code",
   "execution_count": null,
   "outputs": [],
   "source": [
    "p2_balanced_hist = p2[\"Deaths\"].hist(bins=\"auto\", log=True)"
   ],
   "metadata": {
    "collapsed": false,
    "pycharm": {
     "name": "#%%\n"
    }
   }
  },
  {
   "cell_type": "markdown",
   "source": [
    "#### 3.2.2 - Plots Within Plots"
   ],
   "metadata": {
    "collapsed": false,
    "pycharm": {
     "name": "#%% md\n"
    }
   }
  },
  {
   "cell_type": "markdown",
   "source": [
    "All three plots, but together now!"
   ],
   "metadata": {
    "collapsed": false
   }
  },
  {
   "cell_type": "code",
   "execution_count": null,
   "outputs": [],
   "source": [
    "p2_grouped_hist = p2.hist(column=[\"Confirmed\", \"Recovered\", \"Deaths\"],\n",
    "                          bins=\"auto\", layout=(3, 1), figsize=(10, 10), log=True)"
   ],
   "metadata": {
    "collapsed": false,
    "pycharm": {
     "name": "#%%\n"
    }
   }
  },
  {
   "cell_type": "markdown",
   "source": [
    "#### 3.2.3 - Single-Line Graph"
   ],
   "metadata": {
    "collapsed": false,
    "pycharm": {
     "name": "#%% md\n"
    }
   }
  },
  {
   "cell_type": "markdown",
   "source": [
    "This is an attempt at graphing recovered cases over time. <br>\n",
    "*It turns out that 20,000 data points don't make for a good line graph.*"
   ],
   "metadata": {
    "collapsed": false
   }
  },
  {
   "cell_type": "code",
   "execution_count": null,
   "outputs": [],
   "source": [
    "p2[\"ObservationDate\"] = pd.to_datetime(p2[\"ObservationDate\"])\n",
    "p2.sort_values(by=\"ObservationDate\", ascending=True, inplace=True)\n",
    "p2.plot(x=\"ObservationDate\", y=\"Recovered\", figsize=(10,5))"
   ],
   "metadata": {
    "collapsed": false,
    "pycharm": {
     "name": "#%%\n"
    }
   }
  },
  {
   "cell_type": "markdown",
   "source": [
    "#### 3.2.4 - Multi-Line Graph"
   ],
   "metadata": {
    "collapsed": false
   }
  },
  {
   "cell_type": "markdown",
   "source": [
    "Now with less data points! <br>\n",
    "Creates a function to reduce redundant code in this section somewhat.\n"
   ],
   "metadata": {
    "collapsed": false
   }
  },
  {
   "cell_type": "code",
   "execution_count": null,
   "outputs": [],
   "source": [
    "def aggravate(tmp_series, target):\n",
    "    return tmp_series.aggregate({target:\"last\"}).groupby([\"Country/Region\"], as_index=False,\n",
    "                                                         dropna=False).aggregate({target:\"sum\"})[target]"
   ],
   "metadata": {
    "collapsed": false,
    "pycharm": {
     "name": "#%%\n"
    }
   }
  },
  {
   "cell_type": "markdown",
   "source": [
    "Creates a temporary *unsorted* dataframe for use with the \"aggravate\" function."
   ],
   "metadata": {
    "collapsed": false,
    "pycharm": {
     "name": "#%% md\n"
    }
   }
  },
  {
   "cell_type": "code",
   "source": [
    "tmp_ser = df.groupby([\"Country/Region\", \"Province/State\"], as_index=False, dropna=False)"
   ],
   "metadata": {
    "collapsed": false,
    "pycharm": {
     "name": "#%%\n"
    }
   },
   "execution_count": null,
   "outputs": []
  },
  {
   "cell_type": "markdown",
   "source": [
    "Creates a new dataframe (lg) which is filtered to both make the data more meaningful and reduce the number of datapoints.\n"
   ],
   "metadata": {
    "collapsed": false,
    "pycharm": {
     "name": "#%% md\n"
    }
   }
  },
  {
   "cell_type": "code",
   "execution_count": null,
   "outputs": [],
   "source": [
    "lg = pd.DataFrame()\n",
    "lg[\"Country\"] = (tmp_ser.aggregate({\"Confirmed\":\"last\"}).groupby([\"Country/Region\"], as_index=False,dropna=False).\n",
    "                 aggregate({\"Confirmed\":\"sum\"}))[\"Country/Region\"]\n",
    "lg[\"Confirmed\"] = aggravate(tmp_ser, \"Confirmed\")\n",
    "lg[\"Recovered\"] = aggravate(tmp_ser, \"Recovered\")\n",
    "lg[\"Deaths\"] = aggravate(tmp_ser, \"Deaths\")"
   ],
   "metadata": {
    "collapsed": false,
    "pycharm": {
     "name": "#%%\n"
    }
   }
  },
  {
   "cell_type": "markdown",
   "source": [
    "Creates a line graph out of the newly-filtered function using the number of confirmed cases as the x-axis."
   ],
   "metadata": {
    "collapsed": false,
    "pycharm": {
     "name": "#%% md\n"
    }
   }
  },
  {
   "cell_type": "code",
   "execution_count": null,
   "outputs": [],
   "source": [
    "lg.sort_values(by=\"Confirmed\", ascending=True, inplace=True)\n",
    "lg.plot(\n",
    "    'Confirmed', # X-Axis index\n",
    "    title=\"COVID Case Survival Rates Over Total Cases.\",\n",
    "    ylabel=\"Cases (Log10)\",\n",
    "    xlabel=\"Confirmed Cases (Log10)\",\n",
    "    legend=True,\n",
    "    loglog=True # Sets both axes to a logarithmic scale.\n",
    ")\n",
    "\n",
    "mp.pyplot.annotate('|---?---|', (10**7, 10**7))\n",
    "mp.pyplot.annotate('|----------?----------|', (0.5, 100))"
   ],
   "metadata": {
    "collapsed": false,
    "pycharm": {
     "name": "#%%\n"
    }
   }
  },
  {
   "cell_type": "markdown",
   "source": [
    "#### 3.2.5 - Bar Graph"
   ],
   "metadata": {
    "collapsed": false
   }
  },
  {
   "cell_type": "markdown",
   "source": [
    "Now with beautiful labels! <br>\n",
    "Saves the artwork to a .png in the working folder."
   ],
   "metadata": {
    "collapsed": false
   }
  },
  {
   "cell_type": "code",
   "execution_count": null,
   "outputs": [],
   "source": [
    "lg_bar = lg\n",
    "lg_bar.set_index(\"Country\")\n",
    "lg_bar.plot.bar(\n",
    "    \"Country\", \"Confirmed\", # X-Axis, Y-Axis\n",
    "    title=\"COVID Cases by Country\",\n",
    "    ylabel=\"Confirmed Cases (Log10)\",\n",
    "    figsize=(50,5),\n",
    "    legend=True,\n",
    "    logy=True\n",
    ")\n",
    "\n",
    "mp.pyplot.savefig(\"not_modern_art.png\")"
   ],
   "metadata": {
    "collapsed": false,
    "pycharm": {
     "name": "#%%\n"
    }
   }
  },
  {
   "cell_type": "markdown",
   "source": [
    "## Stage 4 - Data Wrangling"
   ],
   "metadata": {
    "collapsed": false,
    "pycharm": {
     "name": "#%% md\n"
    }
   }
  },
  {
   "cell_type": "markdown",
   "source": [
    "### Part 4.1 - Hierarchical Indexing"
   ],
   "metadata": {
    "collapsed": false,
    "pycharm": {
     "name": "#%% md\n"
    }
   }
  },
  {
   "cell_type": "markdown",
   "source": [
    "#### Part 4.1.1 - .set_index()"
   ],
   "metadata": {
    "collapsed": false
   }
  },
  {
   "cell_type": "markdown",
   "source": [
    "- Duplicates the master dataframe into p4.\n",
    "- Drops unwanted columns.\n",
    "- Drops the duplicates in \"Province/State\", keeping the last (most recent) entry."
   ],
   "metadata": {
    "collapsed": false
   }
  },
  {
   "cell_type": "code",
   "source": [
    "p4 = df.copy()\n",
    "p4.drop([\"SNo\", \"ObservationDate\", \"Last Update\"], axis=1, inplace=True) # Removes the redundant index.\n",
    "\n",
    "p4.drop_duplicates([\"Country/Region\", \"Province/State\"], keep=\"last\", inplace=True)"
   ],
   "metadata": {
    "collapsed": false,
    "pycharm": {
     "name": "#%%\n"
    }
   },
   "execution_count": null,
   "outputs": []
  },
  {
   "cell_type": "markdown",
   "source": [
    "- Creates a hierarchical index from the country and state.<br>\n",
    "- Sorts the index."
   ],
   "metadata": {
    "collapsed": false,
    "pycharm": {
     "name": "#%% md\n"
    }
   }
  },
  {
   "cell_type": "code",
   "execution_count": null,
   "outputs": [],
   "source": [
    "p4_hier = p4.set_index([\"Country/Region\", \"Province/State\"])\n",
    "p4_hier.sort_index(inplace=True)\n",
    "p4_hier.index"
   ],
   "metadata": {
    "collapsed": false,
    "pycharm": {
     "name": "#%%\n"
    }
   }
  },
  {
   "cell_type": "markdown",
   "source": [
    "#### Part 4.1.2 - .unstack()"
   ],
   "metadata": {
    "collapsed": false
   }
  },
  {
   "cell_type": "markdown",
   "source": [
    "Unstacks the dataframe at \"Province/State\" and makes a mess: <br>\n",
    "I'm not sure why, but only 28 countries are listed. <br>\n",
    "This intentionally makes no changes to the dataframe so that it can be used in the next section."
   ],
   "metadata": {
    "collapsed": false
   }
  },
  {
   "cell_type": "code",
   "source": [
    "p4_hier.unstack(level=\"Country/Region\", fill_value=\" \")"
   ],
   "metadata": {
    "collapsed": false,
    "pycharm": {
     "name": "#%%\n"
    }
   },
   "execution_count": null,
   "outputs": []
  },
  {
   "cell_type": "markdown",
   "source": [
    "Earlier, .unstack() resulted in: <br>\n",
    "\"MemoryError: Unable to allocate 3.88 GiB for an array with shape (235243, 2214) and data type object\"<br>\n",
    "I assume GitHub/CoLab would not appreciate that."
   ],
   "metadata": {
    "collapsed": false
   }
  },
  {
   "cell_type": "markdown",
   "source": [
    "#### Part 4.1.3 - Summary Statistics"
   ],
   "metadata": {
    "collapsed": false,
    "pycharm": {
     "name": "#%% md\n"
    }
   }
  },
  {
   "cell_type": "markdown",
   "source": [
    "Uses the hierarchical index and .sum() to find the total number of confirmed cases/ deaths/ recoveries."
   ],
   "metadata": {
    "collapsed": false
   }
  },
  {
   "cell_type": "code",
   "source": [
    "p4_hier.sum(level=\"Country/Region\")"
   ],
   "metadata": {
    "collapsed": false,
    "pycharm": {
     "name": "#%%\n"
    }
   },
   "execution_count": null,
   "outputs": []
  },
  {
   "cell_type": "markdown",
   "source": [
    "#### Part 4.1.4 - .pivot()"
   ],
   "metadata": {
    "collapsed": false
   }
  },
  {
   "cell_type": "markdown",
   "source": [
    "- Creates a pivot group by Country/Region and Province/State.\n",
    "- .fillna() managed to crash pycharm then freeze my computer."
   ],
   "metadata": {
    "collapsed": false
   }
  },
  {
   "cell_type": "code",
   "source": [
    "p4_pivot = p4.pivot(\"Country/Region\", \"Province/State\")\n",
    "\n",
    "# p4_pivot.fillna(\" \", inplace=True)\n",
    "p4_pivot"
   ],
   "metadata": {
    "collapsed": false,
    "pycharm": {
     "name": "#%%\n"
    }
   },
   "execution_count": null,
   "outputs": []
  },
  {
   "cell_type": "markdown",
   "source": [
    "This results in an identical copy of the unstacked table, as pivots are just a more concise way of using\n",
    ".set_index().unstack()\n",
    "The value arg of .pivot() does not need to be set, as the unwanted columns were dropped from p4.\n",
    "This method is much more concise, but allows for less options than unstack."
   ],
   "metadata": {
    "collapsed": false,
    "pycharm": {
     "name": "#%% md\n"
    }
   }
  },
  {
   "cell_type": "markdown",
   "source": [
    "#### Part 4.1.5 - .groupby() -> Unstack"
   ],
   "metadata": {
    "collapsed": false
   }
  },
  {
   "cell_type": "markdown",
   "source": [
    ".groupby was used several times throughout the project to make the data more useful.<br>\n",
    "\n"
   ],
   "metadata": {
    "collapsed": false,
    "pycharm": {
     "name": "#%% md\n"
    }
   }
  },
  {
   "cell_type": "code",
   "source": [
    "p4_group = df.groupby([\"Country/Region\", \"Province/State\"], dropna=False).aggregate({\"Confirmed\":\"last\"})\n",
    "p4_group = p4_group.unstack(\"Province/State\", fill_value=\" \")\n",
    "\n",
    "p4_group"
   ],
   "metadata": {
    "collapsed": false,
    "pycharm": {
     "name": "#%%\n"
    }
   },
   "execution_count": null,
   "outputs": []
  },
  {
   "cell_type": "markdown",
   "source": [
    "This condenses the data down in a similar way to the above pivot/set_index methods.\n"
   ],
   "metadata": {
    "collapsed": false,
    "pycharm": {
     "name": "#%% md\n"
    }
   }
  },
  {
   "cell_type": "markdown",
   "source": [
    "### Part 4.2 - Merge and Concat"
   ],
   "metadata": {
    "collapsed": false
   }
  },
  {
   "cell_type": "markdown",
   "source": [
    "#### Part 4.2.1a - Splitting the Dataset"
   ],
   "metadata": {
    "collapsed": false
   }
  },
  {
   "cell_type": "markdown",
   "source": [
    "Creates two dataframes and prepares them by setting a common index, then dropping various columns.<br>\n",
    "Both sets drop \"Last Update\"."
   ],
   "metadata": {
    "collapsed": false
   }
  },
  {
   "cell_type": "code",
   "source": [
    "p4a = df.copy()\n",
    "p4b = p4.copy()\n",
    "\n",
    "p4a.drop([\"SNo\", \"ObservationDate\", \"Last Update\", \"Deaths\", \"Recovered\"], axis=1, inplace=True)\n",
    "p4b.drop([\"Country/Region\", \"Province/State\"], axis=1, inplace=True)\n",
    "p4b"
   ],
   "metadata": {
    "collapsed": false,
    "pycharm": {
     "name": "#%%\n"
    }
   },
   "execution_count": null,
   "outputs": []
  },
  {
   "cell_type": "markdown",
   "source": [
    "p4b is based on p4, which had all duplicate Country/Province entries dropped. P4a is a copy of the original dataframe.\n"
   ],
   "metadata": {
    "collapsed": false
   }
  },
  {
   "cell_type": "markdown",
   "source": [
    "#### Part 4.2.1b - pd.concat()"
   ],
   "metadata": {
    "collapsed": false
   }
  },
  {
   "cell_type": "markdown",
   "source": [
    "Combines p4a and p4b together again."
   ],
   "metadata": {
    "collapsed": false
   }
  },
  {
   "cell_type": "code",
   "source": [
    "p4c = pd.concat([p4a, p4b], axis=1)\n",
    "p4c"
   ],
   "metadata": {
    "collapsed": false,
    "pycharm": {
     "name": "#%%\n"
    }
   },
   "execution_count": null,
   "outputs": []
  },
  {
   "cell_type": "markdown",
   "source": [
    "The duplicate entries still carry their values for Country/Province(p4a), but show as NaN for\n",
    "Confirmed/Deaths/Recovered (p4b).<br>\n",
    "This is because the two tables were joined on the index automatically (with the shared column merged)."
   ],
   "metadata": {
    "collapsed": false,
    "pycharm": {
     "name": "#%% md\n"
    }
   }
  },
  {
   "cell_type": "markdown",
   "source": [
    "#### Part 4.2.2 - pd.merge()\n"
   ],
   "metadata": {
    "collapsed": false
   }
  },
  {
   "cell_type": "markdown",
   "source": [
    "##### Part 4.2.2.1 - The \"On\" Parameters"
   ],
   "metadata": {
    "collapsed": false
   }
  },
  {
   "cell_type": "markdown",
   "source": [
    "Merges on the shared column, \"Confirmed\"."
   ],
   "metadata": {
    "collapsed": false,
    "pycharm": {
     "name": "#%% md\n"
    }
   }
  },
  {
   "cell_type": "code",
   "execution_count": null,
   "outputs": [],
   "source": [
    "p4a.merge(p4b, on=\"Confirmed\")"
   ],
   "metadata": {
    "collapsed": false,
    "pycharm": {
     "name": "#%%\n"
    }
   }
  },
  {
   "cell_type": "markdown",
   "source": [
    "Somehow this ended up with more entries than it started wtih."
   ],
   "metadata": {
    "collapsed": false,
    "pycharm": {
     "name": "#%% md\n"
    }
   }
  },
  {
   "cell_type": "markdown",
   "source": [
    "##### Part 4.2.2.2 - The \"How\" Parameter"
   ],
   "metadata": {
    "collapsed": false
   }
  },
  {
   "cell_type": "markdown",
   "source": [
    "Merges with how=\"left\"."
   ],
   "metadata": {
    "collapsed": false,
    "pycharm": {
     "name": "#%% md\n"
    }
   }
  },
  {
   "cell_type": "code",
   "execution_count": null,
   "outputs": [],
   "source": [
    "p4a.merge(p4b, how=\"left\", left_index=True, right_index=True)"
   ],
   "metadata": {
    "collapsed": false,
    "pycharm": {
     "name": "#%%\n"
    }
   }
  },
  {
   "cell_type": "markdown",
   "source": [
    "Merges with how=\"right\""
   ],
   "metadata": {
    "collapsed": false,
    "pycharm": {
     "name": "#%% md\n"
    }
   }
  },
  {
   "cell_type": "code",
   "execution_count": null,
   "outputs": [],
   "source": [
    "p4a.merge(p4b, how=\"right\", left_index=True, right_index=True)"
   ],
   "metadata": {
    "collapsed": false,
    "pycharm": {
     "name": "#%%\n"
    }
   }
  },
  {
   "cell_type": "markdown",
   "source": [
    "These two tables differ in what slice was used to anchor the table- for \"left\" (specifying p4a), all rows are displayed,\n",
    "while with \"right\", only the 970 rows of p4b are displayed. Both confirmed columns are displayed, as they were merged\n",
    "on the index."
   ],
   "metadata": {
    "collapsed": false
   }
  },
  {
   "cell_type": "markdown",
   "source": [
    "### Part 4.3 - Pivot Table and CrossTab"
   ],
   "metadata": {
    "collapsed": false,
    "pycharm": {
     "name": "#%% md\n"
    }
   }
  },
  {
   "cell_type": "markdown",
   "source": [
    "#### Part 4.3.1 - .pivot_table()"
   ],
   "metadata": {
    "collapsed": false,
    "pycharm": {
     "name": "#%% md\n"
    }
   }
  },
  {
   "cell_type": "markdown",
   "source": [
    "##### Part 4.3.1.1 - Replicating Hierarchical Indexing"
   ],
   "metadata": {
    "collapsed": false,
    "pycharm": {
     "name": "#%% md\n"
    }
   }
  },
  {
   "cell_type": "markdown",
   "source": [
    "Creates a pivot table based off of the filtered dataframe from before.<br>\n",
    "Country/Region is set as the index, Province/State as the columns, and Confirmed/Deaths/Recovered as the data points.<br>\n",
    "I'm not quite sure where most of the countries went, though."
   ],
   "metadata": {
    "collapsed": false,
    "pycharm": {
     "name": "#%% md\n"
    }
   }
  },
  {
   "cell_type": "code",
   "execution_count": null,
   "outputs": [],
   "source": [
    "piv = df.copy()\n",
    "\n",
    "piv.pivot_table([\"Confirmed\", \"Deaths\", \"Recovered\"], index=\"Country/Region\", columns=\"Province/State\", dropna=False)"
   ],
   "metadata": {
    "collapsed": false,
    "pycharm": {
     "name": "#%%\n"
    }
   }
  },
  {
   "cell_type": "markdown",
   "source": [
    "###### Part 4.3.1.2 - Again, with \"margins=True\""
   ],
   "metadata": {
    "collapsed": false,
    "pycharm": {
     "name": "#%% md\n"
    }
   }
  },
  {
   "cell_type": "markdown",
   "source": [
    "Second time's the charm."
   ],
   "metadata": {
    "collapsed": false,
    "pycharm": {
     "name": "#%% md\n"
    }
   }
  },
  {
   "cell_type": "code",
   "execution_count": null,
   "outputs": [],
   "source": [
    "piv.pivot_table([\"Confirmed\", \"Deaths\", \"Recovered\"], index=\"Country/Region\", columns=\"Province/State\", margins=True,\n",
    "                dropna=False)"
   ],
   "metadata": {
    "collapsed": false,
    "pycharm": {
     "name": "#%%\n"
    }
   }
  },
  {
   "cell_type": "markdown",
   "source": [
    "Margins creates a totals row on the bottom and right side of the table.<br>\n",
    "The bottom is not terribly helpful, as there is only ever one entry per column, but the right total should give the\n",
    "total for the country."
   ],
   "metadata": {
    "collapsed": false,
    "pycharm": {
     "name": "#%% md\n"
    }
   }
  },
  {
   "cell_type": "markdown",
   "source": [
    "###### Part 4.3.1.3 - Yet Again, but with \"aggfunc=\""
   ],
   "metadata": {
    "collapsed": false,
    "pycharm": {
     "name": "#%% md\n"
    }
   }
  },
  {
   "cell_type": "markdown",
   "source": [
    "Setting aggfunc to count counts the number of entries per city, if you can find it in the sea of NaNs."
   ],
   "metadata": {
    "collapsed": false,
    "pycharm": {
     "name": "#%% md\n"
    }
   }
  },
  {
   "cell_type": "code",
   "execution_count": null,
   "outputs": [],
   "source": [
    "piv.pivot_table([\"Confirmed\", \"Deaths\", \"Recovered\"], index=\"Country/Region\", columns=\"Province/State\", margins=True,\n",
    "                dropna=False, aggfunc=\"count\")"
   ],
   "metadata": {
    "collapsed": false,
    "pycharm": {
     "name": "#%%\n"
    }
   }
  },
  {
   "cell_type": "markdown",
   "source": [
    "#### Part 4.3.2 - pd.crosstab()"
   ],
   "metadata": {
    "collapsed": false,
    "pycharm": {
     "name": "#%% md\n"
    }
   }
  },
  {
   "cell_type": "markdown",
   "source": [
    "Creates a crosstab pivot table which counts the number of entries per city."
   ],
   "metadata": {
    "collapsed": false,
    "pycharm": {
     "name": "#%% md\n"
    }
   }
  },
  {
   "cell_type": "code",
   "execution_count": null,
   "outputs": [],
   "source": [
    "# Renaming these columns makes things easier.\n",
    "piv.rename(columns = {\"Country/Region\": \"Country\", \"Province/State\":\"Province\"}, inplace=True)\n",
    "\n",
    "pd.crosstab(piv.Country, piv.Province, margins=True)"
   ],
   "metadata": {
    "collapsed": false,
    "pycharm": {
     "name": "#%%\n"
    }
   }
  },
  {
   "cell_type": "markdown",
   "source": [
    "Essentially the same outcome as pivot_table with aggfunc=\"count\".<br>\n",
    "This one doesn't hurt my eyes (as much), though."
   ],
   "metadata": {
    "collapsed": false,
    "pycharm": {
     "name": "#%% md\n"
    }
   }
  },
  {
   "cell_type": "markdown",
   "source": [
    "### Part 4.4 - Screencast Video"
   ],
   "metadata": {
    "collapsed": false,
    "pycharm": {
     "name": "#%% md\n"
    }
   }
  },
  {
   "cell_type": "markdown",
   "source": [
    "*Coming Soon...*\n"
   ],
   "metadata": {
    "collapsed": false,
    "pycharm": {
     "name": "#%% md\n"
    }
   }
  }
 ],
 "metadata": {
  "kernelspec": {
   "display_name": "Python 3",
   "language": "python",
   "name": "python3"
  },
  "language_info": {
   "codemirror_mode": {
    "name": "ipython",
    "version": 2
   },
   "file_extension": ".py",
   "mimetype": "text/x-python",
   "name": "python",
   "nbconvert_exporter": "python",
   "pygments_lexer": "ipython2",
   "version": "2.7.6"
  }
 },
 "nbformat": 4,
 "nbformat_minor": 0
}