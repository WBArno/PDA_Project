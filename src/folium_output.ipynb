{
 "cells": [
  {
   "cell_type": "markdown",
   "source": [
    "# Introduction"
   ],
   "metadata": {
    "collapsed": false
   }
  },
  {
   "cell_type": "markdown",
   "source": [
    "This program draws a \"heat map\" of COVID cases based on the Covid-19 dataset. The dataset includes information about\n",
    "case counts over time. <br>\n",
    "It relies on a pre-made country map JSON to make the Folium overlay, and a \"better_names\" csv which I wrote so that the\n",
    "code wouldn't get too cluttered."
   ],
   "metadata": {
    "collapsed": false,
    "pycharm": {
     "name": "#%% md\n"
    }
   }
  },
  {
   "cell_type": "markdown",
   "source": [
    "# Main Program"
   ],
   "metadata": {
    "collapsed": false,
    "pycharm": {
     "name": "#%% md\n"
    }
   }
  },
  {
   "cell_type": "markdown",
   "source": [
    "## Init"
   ],
   "metadata": {
    "collapsed": false
   }
  },
  {
   "cell_type": "markdown",
   "source": [
    "Imports standard libraries:"
   ],
   "metadata": {
    "collapsed": false,
    "pycharm": {
     "name": "#%% md\n"
    }
   }
  },
  {
   "cell_type": "code",
   "execution_count": null,
   "outputs": [],
   "source": [
    "import numpy as np\n",
    "import pandas as pd\n",
    "import matplotlib as mp\n",
    "import folium as fol\n",
    "import pycountry as pc\n",
    "from urllib.request import urlopen\n",
    "from json import load"
   ],
   "metadata": {
    "collapsed": false,
    "pycharm": {
     "name": "#%%\n"
    }
   }
  },
  {
   "cell_type": "markdown",
   "source": [
    "Loads data files on GitHub (for Colab)"
   ],
   "metadata": {
    "collapsed": false,
    "pycharm": {
     "name": "#%% md\n"
    }
   }
  },
  {
   "cell_type": "code",
   "execution_count": null,
   "outputs": [],
   "source": [
    "COVID_DATA_URL = \"https://raw.githubusercontent.com/WBArno/PDA_Project/master/Dat/covid_19_data.csv\"\n",
    "BETTER_NAMES_URL = \"https://raw.githubusercontent.com/WBArno/PDA_Project/master/Dat/better_names.csv\"\n",
    "MERGED_COUNTRIES_URL = \"https://raw.githubusercontent.com/WBArno/PDA_Project/master/Dat/merged_countries.json\"\n",
    "\n",
    "# df = pd.read_csv(COVID_DATA_URL)\n",
    "# bn = pd.read_csv(BETTER_NAMES_URL)\n",
    "# ct = load(urlopen(MERGED_COUNTRIES_URL))"
   ],
   "metadata": {
    "collapsed": false,
    "pycharm": {
     "name": "#%%\n"
    }
   }
  },
  {
   "cell_type": "markdown",
   "source": [
    "Loads Data Files (for execution locally/ GitHub)."
   ],
   "metadata": {
    "collapsed": false,
    "pycharm": {
     "name": "#%% md\n"
    }
   }
  },
  {
   "cell_type": "code",
   "execution_count": null,
   "outputs": [],
   "source": [
    "df = pd.read_csv(\"../Dat/covid_19_data.csv\")\n",
    "bn = pd.read_csv(\"../Dat/better_names.csv\")\n",
    "ct = load(open(\"../Dat/merged_countries.json\"))\n"
   ],
   "metadata": {
    "collapsed": false,
    "pycharm": {
     "name": "#%%\n"
    }
   }
  },
  {
   "cell_type": "markdown",
   "source": [
    "## -- Run --"
   ],
   "metadata": {
    "collapsed": false
   }
  },
  {
   "cell_type": "markdown",
   "source": [
    "Function which changes the poorly-named-countries into ones that PyCountry can recognize."
   ],
   "metadata": {
    "collapsed": false
   }
  },
  {
   "cell_type": "code",
   "execution_count": null,
   "outputs": [],
   "source": [
    "def sanitize_csv(original, new):\n",
    "    if new == \"nil\" or new is None:\n",
    "        df[\"Country\"] = df[\"Country\"].str.replace(original, \"\", regex=True)\n",
    "    else:\n",
    "        df[\"Country\"] = df[\"Country\"].str.replace(original, new, regex=True)"
   ],
   "metadata": {
    "collapsed": false,
    "pycharm": {
     "name": "#%%\n"
    }
   }
  },
  {
   "cell_type": "markdown",
   "source": [
    "Prepares the table for use by dropping unneeded columns and renaming an annoying one.\n"
   ],
   "metadata": {
    "collapsed": false
   }
  },
  {
   "cell_type": "code",
   "execution_count": null,
   "outputs": [],
   "source": [
    "df.drop([\"SNo\", \"ObservationDate\", \"Recovered\", \"Last Update\", \"Deaths\"], axis=1, inplace=True)\n",
    "df.rename(columns = {\"Country/Region\": \"Country\"}, inplace=True)"
   ],
   "metadata": {
    "collapsed": false,
    "pycharm": {
     "name": "#%%\n"
    }
   }
  },
  {
   "cell_type": "markdown",
   "source": [
    "\"Sanitizes\" the country names so that PyCountry will recognize them, then collapses them all together."
   ],
   "metadata": {
    "collapsed": false
   }
  },
  {
   "cell_type": "code",
   "execution_count": null,
   "outputs": [],
   "source": [
    "for row in bn.itertuples(): sanitize_csv(row[1], row[2])"
   ],
   "metadata": {
    "collapsed": false,
    "pycharm": {
     "name": "#%%\n"
    }
   }
  },
  {
   "cell_type": "markdown",
   "source": [
    "Groups by and finds the maximum value for each state (the entries are cumulative, so a single group would result in an\n",
    "absurd amount of cases.)"
   ],
   "metadata": {
    "collapsed": false
   }
  },
  {
   "cell_type": "code",
   "execution_count": null,
   "outputs": [],
   "source": [
    "df = df.groupby([\"Country\", \"Province/State\"], as_index=False, dropna=False).aggregate({\"Confirmed\":\"last\"})"
   ],
   "metadata": {
    "collapsed": false,
    "pycharm": {
     "name": "#%%\n"
    }
   }
  },
  {
   "cell_type": "markdown",
   "source": [
    "Groups the table again by country, finding the sum of all of the states."
   ],
   "metadata": {
    "collapsed": false
   }
  },
  {
   "cell_type": "code",
   "execution_count": null,
   "outputs": [],
   "source": [
    "df = df.groupby([\"Country\"], as_index=False, dropna=False).aggregate({\"Confirmed\":\"sum\"})"
   ],
   "metadata": {
    "collapsed": false,
    "pycharm": {
     "name": "#%%\n"
    }
   }
  },
  {
   "cell_type": "markdown",
   "source": [
    "Uses PyCountry to find the three-letter acronym for each country for use with Folium."
   ],
   "metadata": {
    "collapsed": false
   }
  },
  {
   "cell_type": "code",
   "execution_count": null,
   "outputs": [],
   "source": [
    "for row in df[\"Country\"]: df[\"Country\"] = df[\"Country\"].replace(row, pc.countries.search_fuzzy(row)[0].alpha_3)"
   ],
   "metadata": {
    "collapsed": false,
    "pycharm": {
     "name": "#%%\n"
    }
   }
  },
  {
   "cell_type": "markdown",
   "source": [
    "Takes the log of all values in order to make a more meaningful map. <br>\n",
    "Without this step, only three countries would be colored anything other than yellow."
   ],
   "metadata": {
    "collapsed": false
   }
  },
  {
   "cell_type": "code",
   "execution_count": null,
   "outputs": [],
   "source": [
    "for row in df[\"Confirmed\"]: df[\"Confirmed\"] = df[\"Confirmed\"].replace(row, np.log(row))\n",
    "df.dropna(inplace=True) # Necessary to remove broken entries created by the above process."
   ],
   "metadata": {
    "collapsed": false,
    "pycharm": {
     "name": "#%%\n"
    }
   }
  },
  {
   "cell_type": "markdown",
   "source": [
    "Creates the Folium map."
   ],
   "metadata": {
    "collapsed": false
   }
  },
  {
   "cell_type": "code",
   "execution_count": null,
   "outputs": [],
   "source": [
    "outbreak_map = fol.Map(location=[0, 0], zoom_start=0)\n",
    "\n",
    "fol.Choropleth(\n",
    "    name = \"COVID Cases\",\n",
    "    geo_data = ct, # Polygonal data to draw the country map.\n",
    "    data = df, # COVID case data\n",
    "    columns = [\"Country\", \"Confirmed\"], # Column to match with the key, count-based column.\n",
    "    key_on = \"feature.id\", # Establishes the key of the country JSON.\n",
    "    fill_color = \"YlOrRd\", # Color scheme\n",
    "    fill_opacity = 0.75,\n",
    "    line_opacity = 0.25,\n",
    "    nan_fill_opacity = 0,\n",
    "    legend_name = \"Confirmed Cases\",\n",
    "    highlight = True,\n",
    ").add_to(outbreak_map)"
   ],
   "metadata": {
    "collapsed": false,
    "pycharm": {
     "name": "#%%\n"
    }
   }
  },
  {
   "cell_type": "markdown",
   "source": [
    "Creates an overlay for the above folium map which displays the confirmed count."
   ],
   "metadata": {
    "collapsed": false
   }
  },
  {
   "cell_type": "code",
   "execution_count": null,
   "outputs": [],
   "source": [
    "OverlayData = fol.features.GeoJson(\n",
    "    ct,\n",
    "    style_function = lambda x: {'fillColor': '#ffffff', 'color':'#000000', 'fillOpacity': 0.2, 'weight': 0.2},\n",
    "    highlight_function = lambda x: {'fillColor': '#000000', 'color':'#000000', 'fillOpacity': 0.50, 'weight': 0.1},\n",
    "    control = False,\n",
    "    tooltip = fol.features.GeoJsonTooltip(\n",
    "        fields = [\"name\", \"Confirmed\"],\n",
    "        aliases = [\"Country: \", \"Confirmed Cases: \"],\n",
    "        style = \"background-color: white; color: #333333; font-family: arial; font-size: 12px; padding: 10px;\"\n",
    "    )\n",
    ")\n",
    "\n",
    "outbreak_map.add_child(OverlayData)\n",
    "outbreak_map.keep_in_front(OverlayData)\n",
    "fol.LayerControl().add_to(outbreak_map)"
   ],
   "metadata": {
    "collapsed": false,
    "pycharm": {
     "name": "#%%\n"
    }
   }
  },
  {
   "cell_type": "markdown",
   "source": [
    "## Map of the COVID Outbreak"
   ],
   "metadata": {
    "collapsed": false,
    "pycharm": {
     "name": "#%% md\n"
    }
   }
  },
  {
   "cell_type": "code",
   "execution_count": null,
   "outputs": [],
   "source": [
    "outbreak_map"
   ],
   "metadata": {
    "collapsed": false,
    "pycharm": {
     "name": "#%%\n"
    }
   }
  }
 ],
 "metadata": {
  "kernelspec": {
   "display_name": "Python 3",
   "language": "python",
   "name": "python3"
  },
  "language_info": {
   "codemirror_mode": {
    "name": "ipython",
    "version": 2
   },
   "file_extension": ".py",
   "mimetype": "text/x-python",
   "name": "python",
   "nbconvert_exporter": "python",
   "pygments_lexer": "ipython2",
   "version": "2.7.6"
  }
 },
 "nbformat": 4,
 "nbformat_minor": 0
}